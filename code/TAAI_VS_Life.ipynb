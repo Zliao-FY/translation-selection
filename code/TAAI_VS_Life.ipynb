{
 "cells": [
  {
   "cell_type": "code",
   "execution_count": 1,
   "id": "58243261",
   "metadata": {
    "vscode": {
     "languageId": "r"
    }
   },
   "outputs": [
    {
     "name": "stderr",
     "output_type": "stream",
     "text": [
      "Warning message:\n",
      "\"package 'phytools' was built under R version 4.3.2\"\n",
      "Loading required package: maps\n",
      "\n",
      "Warning message:\n",
      "\"package 'maps' was built under R version 4.3.2\"\n",
      "Loading required package: MASS\n",
      "\n",
      "Loading required package: mvtnorm\n",
      "\n",
      "Loading required package: sm\n",
      "\n",
      "Package 'sm', version 2.2-5.7: type help(sm) for summary information\n",
      "\n",
      "\n",
      "Attaching package: 'sm'\n",
      "\n",
      "\n",
      "The following object is masked from 'package:MASS':\n",
      "\n",
      "    muscle\n",
      "\n",
      "\n",
      "Loading required package: zoo\n",
      "\n",
      "\n",
      "Attaching package: 'zoo'\n",
      "\n",
      "\n",
      "The following objects are masked from 'package:base':\n",
      "\n",
      "    as.Date, as.Date.numeric\n",
      "\n",
      "\n"
     ]
    }
   ],
   "source": [
    "library(ape)\n",
    "library(phytools)\n",
    "library(geiger)\n",
    "library(phylolm)\n",
    "library(caper)\n",
    "library(vioplot)"
   ]
  },
  {
   "cell_type": "code",
   "execution_count": 2,
   "id": "ecfd7cb7",
   "metadata": {
    "vscode": {
     "languageId": "r"
    }
   },
   "outputs": [],
   "source": [
    "ddata <- read.csv('..//data//Data_mammalia_150.csv')\n",
    "ttree <- read.nexus('..//data//1000_random_phylogenies_consensus _Vertlife.nexus')\n",
    "\n",
    "ddata$phy_label <- gsub(\" \",\"_\",ddata$taxon_species)\n",
    "row.names(ddata) <- ddata$phy_label"
   ]
  },
  {
   "cell_type": "code",
   "execution_count": 3,
   "id": "8ec21e8f",
   "metadata": {
    "vscode": {
     "languageId": "r"
    }
   },
   "outputs": [],
   "source": [
    "# return dataframe data and phylogenetic tree\n",
    "prunDataTree <- function(data_data, data_tree, varc){\n",
    "  # data_data, data.frame\n",
    "  # data_tree, phylogenetic tree\n",
    "  # varc, variable list, ie, varc = list(y='y_var', x='x_var',...)\n",
    "  varc_values = unlist(varc, use.names = FALSE)\n",
    "  data_sub <- data_data[complete.cases(data_data[varc_values]),]\n",
    "  chk <- name.check(data_tree, data_sub)\n",
    "  \n",
    "  ttree.sub <- drop.tip(data_tree, chk$tree_not_data)\n",
    "  ddata.sub <- data_sub[! rownames(data_sub) %in% chk$data_not_tree,]\n",
    "  ddata.sub <- ddata.sub[order(ddata.sub$taxon_family), ]\n",
    "  \n",
    "  ttree.sub <- multi2di(ttree.sub)\n",
    "  ttree.sub$node.label <- 1:length(ttree.sub$node.label)\n",
    "  return(list(phy=ttree.sub, data=ddata.sub))\n",
    "}"
   ]
  },
  {
   "cell_type": "code",
   "execution_count": 9,
   "metadata": {
    "vscode": {
     "languageId": "r"
    }
   },
   "outputs": [
    {
     "data": {
      "text/plain": [
       "\n",
       "    aquatic      flying terrestrial \n",
       "         23          14         113 "
      ]
     },
     "metadata": {},
     "output_type": "display_data"
    }
   ],
   "source": [
    "table(ddata$mammalia_class)"
   ]
  },
  {
   "cell_type": "code",
   "execution_count": 11,
   "id": "c0699029",
   "metadata": {
    "vscode": {
     "languageId": "r"
    }
   },
   "outputs": [
    {
     "data": {
      "text/html": [
       "23"
      ],
      "text/latex": [
       "23"
      ],
      "text/markdown": [
       "23"
      ],
      "text/plain": [
       "[1] 23"
      ]
     },
     "metadata": {},
     "output_type": "display_data"
    }
   ],
   "source": [
    "nrow(ddata[ddata$mammalia_class == \"aquatic\", ])"
   ]
  },
  {
   "cell_type": "markdown",
   "id": "485488f6",
   "metadata": {},
   "source": [
    "## distribution of proteome TAAI and HEP TAAI, Wilcoxon paired  test"
   ]
  },
  {
   "cell_type": "markdown",
   "id": "b98ba865",
   "metadata": {},
   "source": [
    "### Fig. 2(A)"
   ]
  },
  {
   "cell_type": "code",
   "execution_count": 12,
   "id": "fe1a041b",
   "metadata": {
    "scrolled": false,
    "vscode": {
     "languageId": "r"
    }
   },
   "outputs": [
    {
     "data": {
      "text/plain": [
       "\n",
       "\tWilcoxon signed rank test with continuity correction\n",
       "\n",
       "data:  ddata$TAAI_HEP and ddata$TAAI_proteome\n",
       "V = 9876.5, p-value < 2.2e-16\n",
       "alternative hypothesis: true location shift is greater than 0\n"
      ]
     },
     "metadata": {},
     "output_type": "display_data"
    },
    {
     "name": "stdout",
     "output_type": "stream",
     "text": [
      "[1] 150\n"
     ]
    },
    {
     "data": {
      "image/png": "[encoded data removed]",
      "text/plain": [
       "Plot with title \"\""
      ]
     },
     "metadata": {
      "image/png": {
       "height": 420,
       "width": 420
      }
     },
     "output_type": "display_data"
    }
   ],
   "source": [
    "wilcox.test(ddata$TAAI_HEP,\n",
    "            ddata$TAAI_proteome,\n",
    "            alternative = \"greater\",\n",
    "            paired = TRUE)\n",
    "\n",
    "data <- list(TAAI_proteome = ddata$TAAI_proteome,\n",
    "             TAAI_HEP = ddata$TAAI_HEP)\n",
    "\n",
    "vioplot(data, \n",
    "        xlab = \"\",  \n",
    "        ylab = \"TAAI\", \n",
    "        col = c(\"skyblue\", \"lightgreen\"),\n",
    "        names = c(\"Proteome\", \"HEP\"),\n",
    "        boxwidth = 0.5)\n",
    "\n",
    "for (i in 1:length(data)) {\n",
    "  stripchart(data[[i]], method = \"jitter\", vertical = TRUE, add = TRUE, pch = 19, col = \"black\", at = i)\n",
    "}\n",
    "\n",
    "print(nrow(ddata))"
   ]
  },
  {
   "cell_type": "code",
   "execution_count": 13,
   "id": "e5aece5c",
   "metadata": {
    "vscode": {
     "languageId": "r"
    }
   },
   "outputs": [],
   "source": [
    "data_filter <- ddata[ddata$mammalia_class!='aquatic', ]\n",
    "prun_data <- prunDataTree(data_filter,\n",
    "                          ttree,\n",
    "                          list(x1='GTres', x2='GT'))\n",
    "pic_data <- prun_data\n",
    "\n",
    "gt <- setNames(log(pic_data$data$GT), rownames(pic_data$data))\n",
    "gtres <- setNames(pic_data$data$GTres, rownames(pic_data$data))\n",
    "taai_proteome <- setNames(pic_data$data$TAAI_proteome, rownames(pic_data$data))\n",
    "taai_hep <- setNames(pic_data$data$TAAI_HEP, rownames(pic_data$data))\n",
    "\n",
    "# PIC\n",
    "pic.gt <- pic(gt, pic_data$phy)\n",
    "pic.gtres <- pic(gtres, pic_data$phy)\n",
    "pic.taai.proteome <- pic(taai_proteome, pic_data$phy)\n",
    "pic.taai.hep <- pic(taai_hep, pic_data$phy)"
   ]
  },
  {
   "cell_type": "code",
   "execution_count": 14,
   "id": "92994561",
   "metadata": {
    "scrolled": true,
    "vscode": {
     "languageId": "r"
    }
   },
   "outputs": [
    {
     "data": {
      "text/html": [
       "116"
      ],
      "text/latex": [
       "116"
      ],
      "text/markdown": [
       "116"
      ],
      "text/plain": [
       "[1] 116"
      ]
     },
     "metadata": {},
     "output_type": "display_data"
    }
   ],
   "source": [
    "nrow(prun_data$data)"
   ]
  },
  {
   "cell_type": "markdown",
   "id": "72c81518",
   "metadata": {},
   "source": [
    "### GT ~ TAAI, GTres ~ TAAI"
   ]
  },
  {
   "cell_type": "markdown",
   "id": "39a4c359",
   "metadata": {},
   "source": [
    "### Fig. 2(B)"
   ]
  },
  {
   "cell_type": "code",
   "execution_count": 15,
   "id": "388074a9",
   "metadata": {
    "scrolled": false,
    "vscode": {
     "languageId": "r"
    }
   },
   "outputs": [
    {
     "data": {
      "text/plain": [
       "\n",
       "\tPearson's product-moment correlation\n",
       "\n",
       "data:  pic.gt and pic.taai.proteome\n",
       "t = -2.5024, df = 113, p-value = 0.01376\n",
       "alternative hypothesis: true correlation is not equal to 0\n",
       "95 percent confidence interval:\n",
       " -0.39565570 -0.04805236\n",
       "sample estimates:\n",
       "       cor \n",
       "-0.2291466 \n"
      ]
     },
     "metadata": {},
     "output_type": "display_data"
    },
    {
     "data": {
      "image/png": "[encoded data removed]",
      "text/plain": [
       "plot without title"
      ]
     },
     "metadata": {
      "image/png": {
       "height": 420,
       "width": 420
      }
     },
     "output_type": "display_data"
    }
   ],
   "source": [
    "cor.test(pic.gt, pic.taai.proteome)\n",
    "plot(pic.gt ~ pic.taai.proteome)\n",
    "abline(lm(pic.gt ~ pic.taai.proteome-1))"
   ]
  },
  {
   "cell_type": "markdown",
   "id": "be5edf9b",
   "metadata": {},
   "source": [
    "### long-GTs (GTres > 1) VS short GTs (GTres < 1)"
   ]
  },
  {
   "cell_type": "markdown",
   "id": "32e9cdfe",
   "metadata": {},
   "source": [
    "### Fig. 2(C)"
   ]
  },
  {
   "cell_type": "code",
   "execution_count": 23,
   "id": "a5707f0e",
   "metadata": {
    "scrolled": false,
    "vscode": {
     "languageId": "r"
    }
   },
   "outputs": [
    {
     "data": {
      "text/plain": [
       "\n",
       "\tWilcoxon rank sum test with continuity correction\n",
       "\n",
       "data:  data_short_lived$TAAI_proteome and data_long_lived$TAAI_proteome\n",
       "W = 2087.5, p-value = 0.01227\n",
       "alternative hypothesis: true location shift is greater than 0\n"
      ]
     },
     "metadata": {},
     "output_type": "display_data"
    },
    {
     "name": "stdout",
     "output_type": "stream",
     "text": [
      "[1] 116\n"
     ]
    },
    {
     "data": {
      "image/png": "[encoded data removed]",
      "text/plain": [
       "Plot with title \"\""
      ]
     },
     "metadata": {
      "image/png": {
       "height": 420,
       "width": 420
      }
     },
     "output_type": "display_data"
    }
   ],
   "source": [
    "ddata_ter <- ddata[ddata$mammalia_class!='aquatic' & !is.na(ddata$GTres),]\n",
    "data_long_lived  <- ddata_ter[ddata_ter$GTres>1,]\n",
    "data_short_lived <- ddata_ter[ddata_ter$GTres<1,]\n",
    "\n",
    "\n",
    "wilcox.test(data_short_lived$TAAI_proteome, \n",
    "            data_long_lived$TAAI_proteome, \n",
    "            alternative = \"greater\",\n",
    "            paired = FALSE)\n",
    "\n",
    "data <- list(Short_GTs = data_short_lived$TAAI_proteome,\n",
    "             Long_GTs = data_long_lived$TAAI_proteome)\n",
    "\n",
    "vioplot(data, \n",
    "        xlab = \"\",  \n",
    "        ylab = \"TAAI\", \n",
    "        col = c(\"skyblue\", \"lightgreen\"),\n",
    "        names = c(\"Short GTs\", \"Long GTs\"),\n",
    "        boxwidth = 0.5)\n",
    "\n",
    "for (i in 1:length(data)) {\n",
    "  stripchart(data[[i]], method = \"jitter\", vertical = TRUE, add = TRUE, pch = 19, col = \"black\", at = i)\n",
    "}\n",
    "print(nrow(ddata_ter))"
   ]
  },
  {
   "cell_type": "code",
   "execution_count": 17,
   "id": "d4ff16db",
   "metadata": {
    "vscode": {
     "languageId": "r"
    }
   },
   "outputs": [
    {
     "data": {
      "text/html": [
       "56"
      ],
      "text/latex": [
       "56"
      ],
      "text/markdown": [
       "56"
      ],
      "text/plain": [
       "[1] 56"
      ]
     },
     "metadata": {},
     "output_type": "display_data"
    }
   ],
   "source": [
    "nrow(data_short_lived)"
   ]
  },
  {
   "cell_type": "code",
   "execution_count": 18,
   "id": "6f8a5e3e",
   "metadata": {
    "vscode": {
     "languageId": "r"
    }
   },
   "outputs": [
    {
     "data": {
      "text/html": [
       "60"
      ],
      "text/latex": [
       "60"
      ],
      "text/markdown": [
       "60"
      ],
      "text/plain": [
       "[1] 60"
      ]
     },
     "metadata": {},
     "output_type": "display_data"
    }
   ],
   "source": [
    "nrow(data_long_lived)"
   ]
  },
  {
   "cell_type": "code",
   "execution_count": 24,
   "id": "86da6c23",
   "metadata": {
    "vscode": {
     "languageId": "r"
    }
   },
   "outputs": [
    {
     "data": {
      "text/html": [
       "0.6513582625"
      ],
      "text/latex": [
       "0.6513582625"
      ],
      "text/markdown": [
       "0.6513582625"
      ],
      "text/plain": [
       "[1] 0.6513583"
      ]
     },
     "metadata": {},
     "output_type": "display_data"
    }
   ],
   "source": [
    "median(data_short_lived$TAAI_proteome)"
   ]
  },
  {
   "cell_type": "code",
   "execution_count": 25,
   "id": "4b583d67",
   "metadata": {
    "scrolled": true,
    "vscode": {
     "languageId": "r"
    }
   },
   "outputs": [
    {
     "data": {
      "text/html": [
       "0.6091757155"
      ],
      "text/latex": [
       "0.6091757155"
      ],
      "text/markdown": [
       "0.6091757155"
      ],
      "text/plain": [
       "[1] 0.6091757"
      ]
     },
     "metadata": {},
     "output_type": "display_data"
    }
   ],
   "source": [
    "median(data_long_lived$TAAI_proteome)"
   ]
  },
  {
   "cell_type": "code",
   "execution_count": 26,
   "id": "d232f5eb",
   "metadata": {
    "vscode": {
     "languageId": "r"
    }
   },
   "outputs": [
    {
     "data": {
      "text/plain": [
       "\n",
       "\tWilcoxon rank sum test with continuity correction\n",
       "\n",
       "data:  data_short_lived$TAAI_HEP and data_long_lived$TAAI_HEP\n",
       "W = 2342, p-value = 0.0001287\n",
       "alternative hypothesis: true location shift is greater than 0\n"
      ]
     },
     "metadata": {},
     "output_type": "display_data"
    }
   ],
   "source": [
    "wilcox.test(data_short_lived$TAAI_HEP, \n",
    "            data_long_lived$TAAI_HEP, \n",
    "            alternative = \"greater\")"
   ]
  },
  {
   "cell_type": "markdown",
   "id": "9997b01d",
   "metadata": {},
   "source": [
    "### Fig. 2(D)"
   ]
  },
  {
   "cell_type": "code",
   "execution_count": 27,
   "id": "c2d7dc25",
   "metadata": {
    "scrolled": false,
    "vscode": {
     "languageId": "r"
    }
   },
   "outputs": [
    {
     "data": {
      "text/plain": [
       "\n",
       "\tPearson's product-moment correlation\n",
       "\n",
       "data:  pic.gtres and pic.taai.proteome\n",
       "t = -4.1642, df = 113, p-value = 6.131e-05\n",
       "alternative hypothesis: true correlation is not equal to 0\n",
       "95 percent confidence interval:\n",
       " -0.5135559 -0.1946340\n",
       "sample estimates:\n",
       "       cor \n",
       "-0.3647451 \n"
      ]
     },
     "metadata": {},
     "output_type": "display_data"
    },
    {
     "data": {
      "image/png": "[encoded data removed]",
      "text/plain": [
       "plot without title"
      ]
     },
     "metadata": {
      "image/png": {
       "height": 420,
       "width": 420
      }
     },
     "output_type": "display_data"
    }
   ],
   "source": [
    "cor.test(pic.gtres, pic.taai.proteome)\n",
    "plot(pic.gtres ~ pic.taai.proteome)\n",
    "abline(lm(pic.gtres ~ pic.taai.proteome-1))"
   ]
  },
  {
   "cell_type": "code",
   "execution_count": 28,
   "id": "fe5fcdb8",
   "metadata": {
    "vscode": {
     "languageId": "r"
    }
   },
   "outputs": [],
   "source": [
    "# PGLS 'BM','lambda','kappa','delta','OUfixedRoot', The best model\n",
    "Optimum_model_pgls <- function(data_chose, tree_all, varc_multiple){\n",
    "  # varc = list(y='y1_var', x1='y2_var', x2='x_var')\n",
    "  print(varc_multiple)\n",
    "  model_method_list = c('BM','lambda','kappa','delta','OUfixedRoot')\n",
    "\n",
    "  df_pgls  <- list()\n",
    "  sub_data <- prunDataTree(data_chose, tree_all, varc_multiple)\n",
    "\n",
    "  formula_str <- paste(varc_multiple$y, \"~\", paste(varc_multiple[-1], collapse = \" + \"))\n",
    "  formula_obj <- as.formula(formula_str)\n",
    "  print(formula_str)\n",
    "\n",
    "  for (model_method in model_method_list){\n",
    "    modle.pgls <- phylolm(formula_obj, \n",
    "                          data = sub_data$data, \n",
    "                          phy  = sub_data$phy, \n",
    "                          model = model_method)\n",
    "\n",
    "    pgls_summary = list()\n",
    "    summary_model <- data.frame(summary(modle.pgls)$coefficients)\n",
    "    pgls_summary[['model_name']] <- model_method\n",
    "    pgls_summary[['adj_r2']] <- modle.pgls$adj.r.squared\n",
    "      pgls_summary[['N']] <- nrow(sub_data$data)\n",
    "\n",
    "    for (r in rownames(summary_model)){\n",
    "        for (c in names(summary_model)){\n",
    "            name_value = paste(c(r,c), collapse='_')\n",
    "            pgls_summary[[name_value]] <- summary_model[r,c]\n",
    "        }\n",
    "    }\n",
    "\n",
    "    df_pgls <- rbind(df_pgls, pgls_summary)\n",
    "  }\n",
    "  return(data.frame(df_pgls))\n",
    "}"
   ]
  },
  {
   "cell_type": "code",
   "execution_count": 29,
   "id": "ff0b434a",
   "metadata": {
    "vscode": {
     "languageId": "r"
    }
   },
   "outputs": [
    {
     "name": "stdout",
     "output_type": "stream",
     "text": [
      "$y\n",
      "[1] \"pngr_log\"\n",
      "\n",
      "$x1\n",
      "[1] \"mass_log\"\n",
      "\n",
      "$x2\n",
      "[1] \"TAAI_proteome\"\n",
      "\n",
      "[1] \"pngr_log ~ mass_log + TAAI_proteome\"\n"
     ]
    },
    {
     "name": "stderr",
     "output_type": "stream",
     "text": [
      "Warning message in phylolm(formula_obj, data = sub_data$data, phy = sub_data$phy, :\n",
      "\"the estimation of delta matches the upper/lower bound for this parameter.\n",
      "                          You may change the bounds using options \"upper.bound\" and \"lower.bound\".\n",
      "\"\n"
     ]
    }
   ],
   "source": [
    "ddata_pngr_mass <- ddata[ddata$mammalia_class!='aquatic',]\n",
    "ddata_pngr_mass <- ddata_pngr_mass[!is.na(ddata_pngr_mass$mass) &\n",
    "                                   !is.na(ddata_pngr_mass$PNGR),]\n",
    "\n",
    "ddata_pngr_mass['mass_log'] <- log(ddata_pngr_mass['mass'])\n",
    "ddata_pngr_mass['pngr_log'] <- log(ddata_pngr_mass['PNGR'])\n",
    "\n",
    "summary_pgls_PNGR<- Optimum_model_pgls(ddata_pngr_mass\n",
    "                                      ,ttree\n",
    "                                      ,list(y='pngr_log',x1='mass_log',x2='TAAI_proteome'))"
   ]
  },
  {
   "cell_type": "code",
   "execution_count": 30,
   "id": "d7f1ed56",
   "metadata": {
    "scrolled": false,
    "vscode": {
     "languageId": "r"
    }
   },
   "outputs": [
    {
     "data": {
      "text/html": [
       "<table class=\"dataframe\">\n",
       "<caption>A data.frame: 5 × 15</caption>\n",
       "<thead>\n",
       "\t<tr><th></th><th scope=col>model_name</th><th scope=col>adj_r2</th><th scope=col>N</th><th scope=col>X.Intercept._Estimate</th><th scope=col>X.Intercept._StdErr</th><th scope=col>X.Intercept._t.value</th><th scope=col>X.Intercept._p.value</th><th scope=col>mass_log_Estimate</th><th scope=col>mass_log_StdErr</th><th scope=col>mass_log_t.value</th><th scope=col>mass_log_p.value</th><th scope=col>TAAI_proteome_Estimate</th><th scope=col>TAAI_proteome_StdErr</th><th scope=col>TAAI_proteome_t.value</th><th scope=col>TAAI_proteome_p.value</th></tr>\n",
       "\t<tr><th></th><th scope=col>&lt;named list&gt;</th><th scope=col>&lt;named list&gt;</th><th scope=col>&lt;named list&gt;</th><th scope=col>&lt;named list&gt;</th><th scope=col>&lt;named list&gt;</th><th scope=col>&lt;named list&gt;</th><th scope=col>&lt;named list&gt;</th><th scope=col>&lt;named list&gt;</th><th scope=col>&lt;named list&gt;</th><th scope=col>&lt;named list&gt;</th><th scope=col>&lt;named list&gt;</th><th scope=col>&lt;named list&gt;</th><th scope=col>&lt;named list&gt;</th><th scope=col>&lt;named list&gt;</th><th scope=col>&lt;named list&gt;</th></tr>\n",
       "</thead>\n",
       "<tbody>\n",
       "\t<tr><th scope=row>pgls_summary</th><td>BM</td><td>0.8807623</td><td>112</td><td>-5.500909</td><td>0.7880227</td><td>-6.980648</td><td>2.41231e-10</td><td>0.8045141</td><td>0.0282902</td><td>28.43791</td><td>3.029262e-52</td><td>1.142898</td><td>0.3726703</td><td>3.066779</td><td>0.002729065</td></tr>\n",
       "\t<tr><th scope=row>pgls_summary.1</th><td>lambda</td><td>0.8901589</td><td>112</td><td>-5.360272</td><td>0.7094309</td><td>-7.555735</td><td>1.374337e-11</td><td>0.7968333</td><td>0.02684697</td><td>29.68057</td><td>4.855441e-54</td><td>1.028359</td><td>0.4115791</td><td>2.49857</td><td>0.01396178</td></tr>\n",
       "\t<tr><th scope=row>pgls_summary.2</th><td>kappa</td><td>0.8862635</td><td>112</td><td>-5.407497</td><td>0.6186571</td><td>-8.740702</td><td>3.141257e-14</td><td>0.8010852</td><td>0.02758394</td><td>29.04173</td><td>3.996303e-53</td><td>1.004473</td><td>0.414472</td><td>2.423501</td><td>0.01701803</td></tr>\n",
       "\t<tr><th scope=row>pgls_summary.3</th><td>delta</td><td>0.8909387</td><td>112</td><td>-5.466174</td><td>0.4444338</td><td>-12.29919</td><td>2.491284e-22</td><td>0.805843</td><td>0.02697408</td><td>29.87472</td><td>2.576763e-54</td><td>1.107918</td><td>0.3940865</td><td>2.811357</td><td>0.005851106</td></tr>\n",
       "\t<tr><th scope=row>pgls_summary.4</th><td>OUfixedRoot</td><td>0.8923951</td><td>112</td><td>-5.457294</td><td>0.481037</td><td>-11.34485</td><td>3.612289e-20</td><td>0.8060147</td><td>0.02678002</td><td>30.09762</td><td>1.249941e-54</td><td>1.098096</td><td>0.3993686</td><td>2.749579</td><td>0.006987182</td></tr>\n",
       "</tbody>\n",
       "</table>\n"
      ],
      "text/latex": [
       "A data.frame: 5 × 15\n",
       "\\begin{tabular}{r|lllllllllllllll}\n",
       "  & model\\_name & adj\\_r2 & N & X.Intercept.\\_Estimate & X.Intercept.\\_StdErr & X.Intercept.\\_t.value & X.Intercept.\\_p.value & mass\\_log\\_Estimate & mass\\_log\\_StdErr & mass\\_log\\_t.value & mass\\_log\\_p.value & TAAI\\_proteome\\_Estimate & TAAI\\_proteome\\_StdErr & TAAI\\_proteome\\_t.value & TAAI\\_proteome\\_p.value\\\\\n",
       "  & <named list> & <named list> & <named list> & <named list> & <named list> & <named list> & <named list> & <named list> & <named list> & <named list> & <named list> & <named list> & <named list> & <named list> & <named list>\\\\\n",
       "\\hline\n",
       "\tpgls\\_summary & BM & 0.8807623 & 112 & -5.500909 & 0.7880227 & -6.980648 & 2.41231e-10 & 0.8045141 & 0.0282902 & 28.43791 & 3.029262e-52 & 1.142898 & 0.3726703 & 3.066779 & 0.002729065\\\\\n",
       "\tpgls\\_summary.1 & lambda & 0.8901589 & 112 & -5.360272 & 0.7094309 & -7.555735 & 1.374337e-11 & 0.7968333 & 0.02684697 & 29.68057 & 4.855441e-54 & 1.028359 & 0.4115791 & 2.49857 & 0.01396178\\\\\n",
       "\tpgls\\_summary.2 & kappa & 0.8862635 & 112 & -5.407497 & 0.6186571 & -8.740702 & 3.141257e-14 & 0.8010852 & 0.02758394 & 29.04173 & 3.996303e-53 & 1.004473 & 0.414472 & 2.423501 & 0.01701803\\\\\n",
       "\tpgls\\_summary.3 & delta & 0.8909387 & 112 & -5.466174 & 0.4444338 & -12.29919 & 2.491284e-22 & 0.805843 & 0.02697408 & 29.87472 & 2.576763e-54 & 1.107918 & 0.3940865 & 2.811357 & 0.005851106\\\\\n",
       "\tpgls\\_summary.4 & OUfixedRoot & 0.8923951 & 112 & -5.457294 & 0.481037 & -11.34485 & 3.612289e-20 & 0.8060147 & 0.02678002 & 30.09762 & 1.249941e-54 & 1.098096 & 0.3993686 & 2.749579 & 0.006987182\\\\\n",
       "\\end{tabular}\n"
      ],
      "text/markdown": [
       "\n",
       "A data.frame: 5 × 15\n",
       "\n",
       "| <!--/--> | model_name &lt;named list&gt; | adj_r2 &lt;named list&gt; | N &lt;named list&gt; | X.Intercept._Estimate &lt;named list&gt; | X.Intercept._StdErr &lt;named list&gt; | X.Intercept._t.value &lt;named list&gt; | X.Intercept._p.value &lt;named list&gt; | mass_log_Estimate &lt;named list&gt; | mass_log_StdErr &lt;named list&gt; | mass_log_t.value &lt;named list&gt; | mass_log_p.value &lt;named list&gt; | TAAI_proteome_Estimate &lt;named list&gt; | TAAI_proteome_StdErr &lt;named list&gt; | TAAI_proteome_t.value &lt;named list&gt; | TAAI_proteome_p.value &lt;named list&gt; |\n",
       "|---|---|---|---|---|---|---|---|---|---|---|---|---|---|---|---|\n",
       "| pgls_summary | BM | 0.8807623 | 112 | -5.500909 | 0.7880227 | -6.980648 | 2.41231e-10 | 0.8045141 | 0.0282902 | 28.43791 | 3.029262e-52 | 1.142898 | 0.3726703 | 3.066779 | 0.002729065 |\n",
       "| pgls_summary.1 | lambda | 0.8901589 | 112 | -5.360272 | 0.7094309 | -7.555735 | 1.374337e-11 | 0.7968333 | 0.02684697 | 29.68057 | 4.855441e-54 | 1.028359 | 0.4115791 | 2.49857 | 0.01396178 |\n",
       "| pgls_summary.2 | kappa | 0.8862635 | 112 | -5.407497 | 0.6186571 | -8.740702 | 3.141257e-14 | 0.8010852 | 0.02758394 | 29.04173 | 3.996303e-53 | 1.004473 | 0.414472 | 2.423501 | 0.01701803 |\n",
       "| pgls_summary.3 | delta | 0.8909387 | 112 | -5.466174 | 0.4444338 | -12.29919 | 2.491284e-22 | 0.805843 | 0.02697408 | 29.87472 | 2.576763e-54 | 1.107918 | 0.3940865 | 2.811357 | 0.005851106 |\n",
       "| pgls_summary.4 | OUfixedRoot | 0.8923951 | 112 | -5.457294 | 0.481037 | -11.34485 | 3.612289e-20 | 0.8060147 | 0.02678002 | 30.09762 | 1.249941e-54 | 1.098096 | 0.3993686 | 2.749579 | 0.006987182 |\n",
       "\n"
      ],
      "text/plain": [
       "               model_name  adj_r2    N   X.Intercept._Estimate\n",
       "pgls_summary   BM          0.8807623 112 -5.500909            \n",
       "pgls_summary.1 lambda      0.8901589 112 -5.360272            \n",
       "pgls_summary.2 kappa       0.8862635 112 -5.407497            \n",
       "pgls_summary.3 delta       0.8909387 112 -5.466174            \n",
       "pgls_summary.4 OUfixedRoot 0.8923951 112 -5.457294            \n",
       "               X.Intercept._StdErr X.Intercept._t.value X.Intercept._p.value\n",
       "pgls_summary   0.7880227           -6.980648            2.41231e-10         \n",
       "pgls_summary.1 0.7094309           -7.555735            1.374337e-11        \n",
       "pgls_summary.2 0.6186571           -8.740702            3.141257e-14        \n",
       "pgls_summary.3 0.4444338           -12.29919            2.491284e-22        \n",
       "pgls_summary.4 0.481037            -11.34485            3.612289e-20        \n",
       "               mass_log_Estimate mass_log_StdErr mass_log_t.value\n",
       "pgls_summary   0.8045141         0.0282902       28.43791        \n",
       "pgls_summary.1 0.7968333         0.02684697      29.68057        \n",
       "pgls_summary.2 0.8010852         0.02758394      29.04173        \n",
       "pgls_summary.3 0.805843          0.02697408      29.87472        \n",
       "pgls_summary.4 0.8060147         0.02678002      30.09762        \n",
       "               mass_log_p.value TAAI_proteome_Estimate TAAI_proteome_StdErr\n",
       "pgls_summary   3.029262e-52     1.142898               0.3726703           \n",
       "pgls_summary.1 4.855441e-54     1.028359               0.4115791           \n",
       "pgls_summary.2 3.996303e-53     1.004473               0.414472            \n",
       "pgls_summary.3 2.576763e-54     1.107918               0.3940865           \n",
       "pgls_summary.4 1.249941e-54     1.098096               0.3993686           \n",
       "               TAAI_proteome_t.value TAAI_proteome_p.value\n",
       "pgls_summary   3.066779              0.002729065          \n",
       "pgls_summary.1 2.49857               0.01396178           \n",
       "pgls_summary.2 2.423501              0.01701803           \n",
       "pgls_summary.3 2.811357              0.005851106          \n",
       "pgls_summary.4 2.749579              0.006987182          "
      ]
     },
     "metadata": {},
     "output_type": "display_data"
    }
   ],
   "source": [
    "summary_pgls_PNGR"
   ]
  },
  {
   "cell_type": "markdown",
   "id": "f6cc00be",
   "metadata": {},
   "source": [
    "# maximum longevity VS TAAI analysis"
   ]
  },
  {
   "cell_type": "markdown",
   "id": "bf576e95",
   "metadata": {},
   "source": [
    "## longevity (ML) ~ TAAI\n",
    "## residuals of longevity (MLres) ~ TAAI"
   ]
  },
  {
   "cell_type": "code",
   "execution_count": 31,
   "id": "400cc431",
   "metadata": {
    "vscode": {
     "languageId": "r"
    }
   },
   "outputs": [],
   "source": [
    "data_filter_longevity <- ddata[ddata$mammalia_class!='aquatic', ]\n",
    "prun_data <- prunDataTree(data_filter_longevity,\n",
    "                          ttree,\n",
    "                          list(x1='MLres', x2='longevity'))\n",
    "pic_data <- prun_data\n",
    "\n",
    "ml <- setNames(log(pic_data$data$longevity), rownames(pic_data$data))\n",
    "mlres <- setNames(pic_data$data$MLres, rownames(pic_data$data))\n",
    "taai_proteome <- setNames(pic_data$data$TAAI_proteome, rownames(pic_data$data))\n",
    "taai_hep <- setNames(pic_data$data$TAAI_HEP, rownames(pic_data$data))\n",
    "\n",
    "# PIC\n",
    "pic.ml <- pic(ml, pic_data$phy)\n",
    "pic.mlres <- pic(mlres, pic_data$phy)\n",
    "pic.taai.proteome <- pic(taai_proteome, pic_data$phy)\n",
    "pic.taai.hep <- pic(taai_hep, pic_data$phy)"
   ]
  },
  {
   "cell_type": "code",
   "execution_count": 33,
   "metadata": {
    "vscode": {
     "languageId": "r"
    }
   },
   "outputs": [
    {
     "data": {
      "text/html": [
       "124"
      ],
      "text/latex": [
       "124"
      ],
      "text/markdown": [
       "124"
      ],
      "text/plain": [
       "[1] 124"
      ]
     },
     "metadata": {},
     "output_type": "display_data"
    }
   ],
   "source": [
    "nrow(prun_data$data)"
   ]
  },
  {
   "cell_type": "code",
   "execution_count": 34,
   "id": "8f952737",
   "metadata": {
    "vscode": {
     "languageId": "r"
    }
   },
   "outputs": [
    {
     "data": {
      "text/plain": [
       "\n",
       "\tPearson's product-moment correlation\n",
       "\n",
       "data:  pic.ml and pic.taai.proteome\n",
       "t = 1.1926, df = 121, p-value = 0.2354\n",
       "alternative hypothesis: true correlation is not equal to 0\n",
       "95 percent confidence interval:\n",
       " -0.07059923  0.27948371\n",
       "sample estimates:\n",
       "      cor \n",
       "0.1077822 \n"
      ]
     },
     "metadata": {},
     "output_type": "display_data"
    },
    {
     "data": {
      "image/png": "[encoded data removed]",
      "text/plain": [
       "plot without title"
      ]
     },
     "metadata": {
      "image/png": {
       "height": 420,
       "width": 420
      }
     },
     "output_type": "display_data"
    }
   ],
   "source": [
    "cor.test(pic.ml, pic.taai.proteome)\n",
    "plot(pic.ml ~ pic.taai.proteome)\n",
    "abline(lm(pic.ml ~ pic.taai.proteome-1))"
   ]
  },
  {
   "cell_type": "code",
   "execution_count": 35,
   "id": "543ee2ab",
   "metadata": {
    "vscode": {
     "languageId": "r"
    }
   },
   "outputs": [
    {
     "data": {
      "text/plain": [
       "\n",
       "\tPearson's product-moment correlation\n",
       "\n",
       "data:  pic.mlres and pic.taai.proteome\n",
       "t = 0.49409, df = 121, p-value = 0.6221\n",
       "alternative hypothesis: true correlation is not equal to 0\n",
       "95 percent confidence interval:\n",
       " -0.1332210  0.2201571\n",
       "sample estimates:\n",
       "       cor \n",
       "0.04487166 \n"
      ]
     },
     "metadata": {},
     "output_type": "display_data"
    },
    {
     "data": {
      "image/png": "[encoded data removed]",
      "text/plain": [
       "plot without title"
      ]
     },
     "metadata": {
      "image/png": {
       "height": 420,
       "width": 420
      }
     },
     "output_type": "display_data"
    }
   ],
   "source": [
    "cor.test(pic.mlres, pic.taai.proteome)\n",
    "plot(pic.mlres ~ pic.taai.proteome)\n",
    "abline(lm(pic.mlres ~ pic.taai.proteome-1))"
   ]
  },
  {
   "cell_type": "markdown",
   "id": "36b36262",
   "metadata": {},
   "source": [
    "### we applied a threshold of GTres < 1 (fast-lived species) and MLres > 1 (long-lived species), to filter for mammals with shorter generation times but longer lifespans."
   ]
  },
  {
   "cell_type": "code",
   "execution_count": 36,
   "id": "776b095a",
   "metadata": {
    "scrolled": false,
    "vscode": {
     "languageId": "r"
    }
   },
   "outputs": [
    {
     "data": {
      "image/png": "[encoded data removed]",
      "text/plain": [
       "plot without title"
      ]
     },
     "metadata": {
      "image/png": {
       "height": 420,
       "width": 420
      }
     },
     "output_type": "display_data"
    }
   ],
   "source": [
    "df_fast_slow <- ddata[ddata$mammalia_class!='aquatic' &\n",
    "                     ddata$GTres<1 &\n",
    "                     ddata$MLres>1,]\n",
    "\n",
    "df_fast_slow <- df_fast_slow[!is.na(df_fast_slow$taxon_species),]\n",
    "\n",
    "plot(MLres ~ TAAI_proteome, cex=2,data=df_fast_slow)\n",
    "text(df_fast_slow$TAAI_proteome, \n",
    "     df_fast_slow$MLres, \n",
    "     df_fast_slow$taxon_species, \n",
    "     pos = 1,\n",
    "     cex=0.5)"
   ]
  },
  {
   "cell_type": "code",
   "execution_count": null,
   "id": "a292a4b4",
   "metadata": {
    "vscode": {
     "languageId": "r"
    }
   },
   "outputs": [],
   "source": []
  },
  {
   "cell_type": "markdown",
   "id": "e69ce557",
   "metadata": {},
   "source": [
    "### Fig. 4"
   ]
  },
  {
   "cell_type": "code",
   "execution_count": 37,
   "id": "f84bd1db",
   "metadata": {
    "vscode": {
     "languageId": "r"
    }
   },
   "outputs": [
    {
     "name": "stdout",
     "output_type": "stream",
     "text": [
      "\n",
      "Phylogenetic signal lambda : 0.86242 \n",
      "logL(lambda) : -5.37077 \n",
      "LR(lambda=0) : 9.24316 \n",
      "P-value (based on LR test) : 0.00236377 \n",
      "\n",
      "\n",
      "Phylogenetic signal lambda : 0.622243 \n",
      "logL(lambda) : 18.8963 \n",
      "LR(lambda=0) : 0.99851 \n",
      "P-value (based on LR test) : 0.317671 \n",
      "\n"
     ]
    },
    {
     "data": {
      "text/plain": [
       "\n",
       "Call:\n",
       "phylolm(formula = MLres ~ TAAI_proteome, data = df_fast_slow_sig$data, \n",
       "    phy = df_fast_slow_sig$phy, model = \"BM\")\n",
       "\n",
       "   AIC logLik \n",
       " 18.48  -6.24 \n",
       "\n",
       "Raw residuals:\n",
       "    Min      1Q  Median      3Q     Max \n",
       "-0.7052 -0.4621 -0.3532 -0.1734  1.0006 \n",
       "\n",
       "Mean tip height: 188.3046\n",
       "Parameter estimate(s) using ML:\n",
       "sigma2: 0.00254846 \n",
       "\n",
       "Coefficients:\n",
       "              Estimate  StdErr t.value  p.value   \n",
       "(Intercept)    0.35599 0.61728  0.5767 0.571690   \n",
       "TAAI_proteome  1.92737 0.63493  3.0356 0.007466 **\n",
       "---\n",
       "Signif. codes:  0 '***' 0.001 '**' 0.01 '*' 0.05 '.' 0.1 ' ' 1\n",
       "\n",
       "R-squared: 0.3515\tAdjusted R-squared: 0.3134 "
      ]
     },
     "metadata": {},
     "output_type": "display_data"
    },
    {
     "data": {
      "image/png": "[encoded data removed]",
      "text/plain": [
       "plot without title"
      ]
     },
     "metadata": {
      "image/png": {
       "height": 420,
       "width": 420
      }
     },
     "output_type": "display_data"
    },
    {
     "data": {
      "image/png": "[encoded data removed]",
      "text/plain": [
       "plot without title"
      ]
     },
     "metadata": {
      "image/png": {
       "height": 420,
       "width": 420
      }
     },
     "output_type": "display_data"
    }
   ],
   "source": [
    "df_fast_slow_sig <- prunDataTree(df_fast_slow, \n",
    "                              ttree, \n",
    "                              list(x1='MLres', x2='TAAI_proteome'))\n",
    "\n",
    "TAAI_proteome <- df_fast_slow_sig$data$TAAI_proteome\n",
    "names(TAAI_proteome) <- rownames(df_fast_slow_sig$data)\n",
    "\n",
    "MLres <- df_fast_slow_sig$data$MLres\n",
    "names(MLres) <- rownames(df_fast_slow_sig$data)\n",
    "\n",
    "print(phylosig(df_fast_slow_sig$phy, MLres, method = \"lambda\", test=T))\n",
    "print(phylosig(df_fast_slow_sig$phy, TAAI_proteome, method = \"lambda\", test=T))\n",
    "\n",
    "plot(df_fast_slow_sig$phy)\n",
    "\n",
    "ols.model.new <- lm(MLres ~ TAAI_proteome,data=df_fast_slow_sig$data)\n",
    "\n",
    "pgls.model.new <- phylolm(MLres ~ TAAI_proteome\n",
    "                    ,data=df_fast_slow_sig$data\n",
    "                    ,phy=df_fast_slow_sig$phy\n",
    "                    ,model='BM')\n",
    "summary(pgls.model.new)\n",
    "\n",
    "\n",
    "plot(MLres ~ TAAI_proteome, cex=2,data=df_fast_slow)\n",
    "text(df_fast_slow$TAAI_proteome, \n",
    "     df_fast_slow$MLres, \n",
    "     df_fast_slow$taxon_species, \n",
    "     pos = 1,\n",
    "     cex=0.5)\n",
    "\n",
    "abline(pgls.model.new, col='red')\n",
    "abline(ols.model.new, col='black')"
   ]
  },
  {
   "cell_type": "code",
   "execution_count": 38,
   "id": "7c0ed057",
   "metadata": {
    "scrolled": true,
    "vscode": {
     "languageId": "r"
    }
   },
   "outputs": [
    {
     "name": "stdout",
     "output_type": "stream",
     "text": [
      "outliers:\t Tachyglossus_aculeatus \n"
     ]
    }
   ],
   "source": [
    "# outliers\n",
    "lm.model <- lm(MLres ~ TAAI_proteome, data=df_fast_slow)\n",
    "res<- residuals(lm.model)\n",
    "res<- res/sqrt(var(res))[1]\n",
    "out_s <- names(res)[(abs(res)>3)] \n",
    "# summary(lm.model)\n",
    "cat('outliers:\\t', out_s, '\\n')\n",
    "# outlier # 'Tachyglossus_aculeatus'"
   ]
  },
  {
   "cell_type": "markdown",
   "id": "18d5b061",
   "metadata": {},
   "source": [
    "### Supplement Fig.1"
   ]
  },
  {
   "cell_type": "code",
   "execution_count": 39,
   "id": "8c3a2cc9",
   "metadata": {
    "vscode": {
     "languageId": "r"
    }
   },
   "outputs": [
    {
     "data": {
      "text/plain": [
       "\n",
       "Call:\n",
       "lm(formula = MLres ~ TAAI_proteome, data = df_fast_slow_sig_rmOutL$data)\n",
       "\n",
       "Residuals:\n",
       "     Min       1Q   Median       3Q      Max \n",
       "-0.31281 -0.12893 -0.02865  0.11159  0.36498 \n",
       "\n",
       "Coefficients:\n",
       "              Estimate Std. Error t value Pr(>|t|)  \n",
       "(Intercept)     0.5286     0.3302   1.601   0.1290  \n",
       "TAAI_proteome   1.1322     0.4954   2.285   0.0363 *\n",
       "---\n",
       "Signif. codes:  0 '***' 0.001 '**' 0.01 '*' 0.05 '.' 0.1 ' ' 1\n",
       "\n",
       "Residual standard error: 0.1884 on 16 degrees of freedom\n",
       "Multiple R-squared:  0.2461,\tAdjusted R-squared:  0.199 \n",
       "F-statistic: 5.223 on 1 and 16 DF,  p-value: 0.03626\n"
      ]
     },
     "metadata": {},
     "output_type": "display_data"
    },
    {
     "name": "stdout",
     "output_type": "stream",
     "text": [
      "\n",
      "PGLS\n"
     ]
    },
    {
     "data": {
      "text/plain": [
       "\n",
       "Call:\n",
       "phylolm(formula = MLres ~ TAAI_proteome, data = df_fast_slow_sig_rmOutL$data, \n",
       "    phy = df_fast_slow_sig_rmOutL$phy, model = \"BM\")\n",
       "\n",
       "   AIC logLik \n",
       "13.776 -3.888 \n",
       "\n",
       "Raw residuals:\n",
       "     Min       1Q   Median       3Q      Max \n",
       "-0.23845 -0.00609  0.09574  0.27287  0.42883 \n",
       "\n",
       "Mean tip height: 159.5321\n",
       "Parameter estimate(s) using ML:\n",
       "sigma2: 0.002255111 \n",
       "\n",
       "Coefficients:\n",
       "              Estimate   StdErr t.value  p.value   \n",
       "(Intercept)   -0.05841  0.56749 -0.1029 0.919300   \n",
       "TAAI_proteome  1.85367  0.60070  3.0859 0.007087 **\n",
       "---\n",
       "Signif. codes:  0 '***' 0.001 '**' 0.01 '*' 0.05 '.' 0.1 ' ' 1\n",
       "\n",
       "R-squared: 0.3731\tAdjusted R-squared: 0.3339 "
      ]
     },
     "metadata": {},
     "output_type": "display_data"
    },
    {
     "data": {
      "image/png": "[encoded data removed]",
      "text/plain": [
       "plot without title"
      ]
     },
     "metadata": {
      "image/png": {
       "height": 420,
       "width": 420
      }
     },
     "output_type": "display_data"
    },
    {
     "data": {
      "image/png": "[encoded data removed]",
      "text/plain": [
       "plot without title"
      ]
     },
     "metadata": {
      "image/png": {
       "height": 420,
       "width": 420
      }
     },
     "output_type": "display_data"
    }
   ],
   "source": [
    "# remove outlier species Tachyglossus_aculeatus \n",
    "\n",
    "df_fast_slow_sig_rmOutL <- prunDataTree(df_fast_slow[df_fast_slow$taxon_species != 'Tachyglossus aculeatus',], \n",
    "                              ttree, \n",
    "                              list(x1='MLres', x2='TAAI_proteome'))\n",
    "\n",
    "lm.mode.rmO <- lm(MLres ~ TAAI_proteome, \n",
    "                   data=df_fast_slow_sig_rmOutL$data)\n",
    "\n",
    "# 'BM','lambda','kappa','delta','OUfixedRoot'\n",
    "pgls.model.rmO <- phylolm(MLres ~ TAAI_proteome\n",
    "                    ,data=df_fast_slow_sig_rmOutL$data\n",
    "                    ,phy=df_fast_slow_sig_rmOutL$phy\n",
    "                    ,model='BM')\n",
    "\n",
    "summary(lm.mode.rmO)\n",
    "cat('\\nPGLS\\n')\n",
    "summary(pgls.model.rmO)\n",
    "\n",
    "plot(MLres ~ TAAI_proteome,cex=2, data=df_fast_slow_sig_rmOutL$data)\n",
    "text(df_fast_slow_sig_rmOutL$data$TAAI_proteome, \n",
    "     df_fast_slow_sig_rmOutL$data$MLres, \n",
    "     df_fast_slow_sig_rmOutL$data$taxon_species, \n",
    "     pos = 1,\n",
    "     cex=0.5)\n",
    "abline(lm.mode.rmO)\n",
    "abline(pgls.model.rmO, col='red')\n",
    "\n",
    "plot(df_fast_slow_sig_rmOutL$phy)"
   ]
  },
  {
   "cell_type": "code",
   "execution_count": null,
   "id": "63457b5c",
   "metadata": {
    "vscode": {
     "languageId": "r"
    }
   },
   "outputs": [],
   "source": []
  },
  {
   "cell_type": "markdown",
   "id": "95828c89",
   "metadata": {},
   "source": [
    "### The longevity residuals (relative ML, see methods) corrected for  generation time"
   ]
  },
  {
   "cell_type": "markdown",
   "id": "2caa17e8",
   "metadata": {},
   "source": [
    "### PICs: relative ML ~ TAAI"
   ]
  },
  {
   "cell_type": "markdown",
   "id": "479b7fc5",
   "metadata": {},
   "source": [
    "### Fig.5"
   ]
  },
  {
   "cell_type": "code",
   "execution_count": 40,
   "id": "09247088",
   "metadata": {
    "scrolled": false,
    "vscode": {
     "languageId": "r"
    }
   },
   "outputs": [
    {
     "name": "stdout",
     "output_type": "stream",
     "text": [
      "[1] 116\n",
      "[1] \"91\"\n"
     ]
    },
    {
     "data": {
      "text/plain": [
       "\n",
       "\tPearson's product-moment correlation\n",
       "\n",
       "data:  pic.rel_ml and pic.taai\n",
       "t = 3.6367, df = 112, p-value = 0.0004189\n",
       "alternative hypothesis: true correlation is not equal to 0\n",
       "95 percent confidence interval:\n",
       " 0.1500376 0.4801983\n",
       "sample estimates:\n",
       "      cor \n",
       "0.3249848 \n"
      ]
     },
     "metadata": {},
     "output_type": "display_data"
    },
    {
     "data": {
      "text/plain": [
       "\n",
       "Call:\n",
       "lm(formula = pic.rel_ml ~ pic.taai - 1)\n",
       "\n",
       "Residuals:\n",
       "     Min       1Q   Median       3Q      Max \n",
       "-0.39513 -0.03693  0.01613  0.06833  0.24720 \n",
       "\n",
       "Coefficients:\n",
       "         Estimate Std. Error t value Pr(>|t|)   \n",
       "pic.taai   1.2567     0.3808     3.3  0.00129 **\n",
       "---\n",
       "Signif. codes:  0 '***' 0.001 '**' 0.01 '*' 0.05 '.' 0.1 ' ' 1\n",
       "\n",
       "Residual standard error: 0.09979 on 114 degrees of freedom\n",
       "Multiple R-squared:  0.08722,\tAdjusted R-squared:  0.07921 \n",
       "F-statistic: 10.89 on 1 and 114 DF,  p-value: 0.001289\n"
      ]
     },
     "metadata": {},
     "output_type": "display_data"
    },
    {
     "data": {
      "image/png": "[encoded data removed]",
      "text/plain": [
       "plot without title"
      ]
     },
     "metadata": {
      "image/png": {
       "height": 420,
       "width": 420
      }
     },
     "output_type": "display_data"
    }
   ],
   "source": [
    "data_filter <- ddata[ddata$mammalia_class!='aquatic',]\n",
    "\n",
    "prun_data <- prunDataTree(data_filter, \n",
    "                          ttree, \n",
    "                          list(x1='relative_ML', x2='TAAI_proteome'))\n",
    "pic_data <- prun_data\n",
    "print(nrow(prun_data$data))\n",
    "\n",
    "rel_ml <- setNames(pic_data$data$relative_ML, rownames(pic_data$data))\n",
    "taai  <- setNames(pic_data$data$TAAI_proteome, rownames(pic_data$data))\n",
    "\n",
    "# PIC\n",
    "pic.rel_ml <- pic(rel_ml, pic_data$phy)\n",
    "pic.taai <- pic(taai, pic_data$phy)\n",
    "\n",
    "\n",
    "ols.rel_ml.taai <- lm(pic.rel_ml ~ pic.taai-1)\n",
    "res<- residuals(ols.rel_ml.taai)\n",
    "res<- res/sqrt(var(res))[1]\n",
    "outliers <- names(res)[(abs(res)>3)]\n",
    "print(outliers)\n",
    "\n",
    "pic.rel_ml <- pic.rel_ml[!names(pic.rel_ml) %in% outliers]\n",
    "pic.taai <- pic.taai[!names(pic.taai) %in% outliers]\n",
    "\n",
    "cor.test(pic.rel_ml, pic.taai, method='pearson')\n",
    "plot(pic.rel_ml ~ pic.taai)\n",
    "abline(ols.rel_ml.taai)\n",
    "summary(ols.rel_ml.taai)"
   ]
  },
  {
   "cell_type": "markdown",
   "id": "c18c6e33",
   "metadata": {},
   "source": [
    "### PGLS: ML  ~ GT + TAAI"
   ]
  },
  {
   "cell_type": "code",
   "execution_count": 41,
   "id": "2d89d883",
   "metadata": {
    "vscode": {
     "languageId": "r"
    }
   },
   "outputs": [
    {
     "name": "stdout",
     "output_type": "stream",
     "text": [
      "[1] 116\n"
     ]
    },
    {
     "data": {
      "text/plain": [
       "\n",
       "Call:\n",
       "phylolm(formula = log(longevity) ~ log(GT) + TAAI_proteome, data = prun_data$data, \n",
       "    phy = prun_data$phy, model = \"lambda\")\n",
       "\n",
       "   AIC logLik \n",
       "113.62 -51.81 \n",
       "\n",
       "Raw residuals:\n",
       "    Min      1Q  Median      3Q     Max \n",
       "-1.8892 -0.1463  0.1402  0.3964  0.9742 \n",
       "\n",
       "Mean tip height: 188.3046\n",
       "Parameter estimate(s) using ML:\n",
       "lambda : 1\n",
       "sigma2: 0.00563408 \n",
       "\n",
       "Coefficients:\n",
       "              Estimate   StdErr t.value   p.value    \n",
       "(Intercept)   0.092092 0.763939  0.1205   0.90426    \n",
       "log(GT)       0.373503 0.069522  5.3724 4.215e-07 ***\n",
       "TAAI_proteome 0.696315 0.298144  2.3355   0.02128 *  \n",
       "---\n",
       "Signif. codes:  0 '***' 0.001 '**' 0.01 '*' 0.05 '.' 0.1 ' ' 1\n",
       "\n",
       "R-squared: 0.2106\tAdjusted R-squared: 0.1966 \n",
       "\n",
       "Note: p-values and R-squared are conditional on lambda=1."
      ]
     },
     "metadata": {},
     "output_type": "display_data"
    },
    {
     "data": {
      "image/png": "[encoded data removed]",
      "text/plain": [
       "plot without title"
      ]
     },
     "metadata": {
      "image/png": {
       "height": 420,
       "width": 420
      }
     },
     "output_type": "display_data"
    }
   ],
   "source": [
    "data_filter <- ddata[ddata$mammalia_class!='aquatic',]\n",
    "# \"BM\", \"OUrandomRoot\", \"OUfixedRoot\", \"lambda\", \"kappa\", \"delta\", \"EB\"\n",
    "\n",
    "\n",
    "prun_data <- prunDataTree(data_filter, \n",
    "                          ttree, \n",
    "                          list(x1='longevity', x2='GT'))\n",
    "print(nrow(prun_data$data))\n",
    "\n",
    "pgls.model.taai.ml.gt <- phylolm(log(longevity) ~ log(GT) + TAAI_proteome\n",
    "                    ,data=prun_data$data\n",
    "                    ,phy =prun_data$phy\n",
    "                    ,model='lambda')\n",
    "\n",
    "summary(pgls.model.taai.ml.gt)\n",
    "plot(pgls.model.taai.ml.gt)"
   ]
  },
  {
   "cell_type": "code",
   "execution_count": null,
   "id": "802f3fbd",
   "metadata": {
    "vscode": {
     "languageId": "r"
    }
   },
   "outputs": [],
   "source": []
  },
  {
   "cell_type": "code",
   "execution_count": null,
   "id": "ce3a8849",
   "metadata": {
    "vscode": {
     "languageId": "r"
    }
   },
   "outputs": [],
   "source": []
  },
  {
   "cell_type": "code",
   "execution_count": null,
   "id": "e9d15236",
   "metadata": {
    "vscode": {
     "languageId": "r"
    }
   },
   "outputs": [],
   "source": []
  }
 ],
 "metadata": {
  "kernelspec": {
   "display_name": "R 4.1",
   "language": "R",
   "name": "ir41"
  },
  "language_info": {
   "codemirror_mode": "r",
   "file_extension": ".r",
   "mimetype": "text/x-r-source",
   "name": "R",
   "pygments_lexer": "r",
   "version": "4.3.1"
  }
 },
 "nbformat": 4,
 "nbformat_minor": 5
}
