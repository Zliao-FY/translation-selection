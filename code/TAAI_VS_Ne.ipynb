{
 "cells": [
  {
   "cell_type": "code",
   "execution_count": 1,
   "id": "d593ae06",
   "metadata": {
    "vscode": {
     "languageId": "r"
    }
   },
   "outputs": [
    {
     "name": "stderr",
     "output_type": "stream",
     "text": [
      "Warning message:\n",
      "\"package 'phytools' was built under R version 4.3.2\"\n",
      "Loading required package: maps\n",
      "\n",
      "Warning message:\n",
      "\"package 'maps' was built under R version 4.3.2\"\n",
      "Loading required package: MASS\n",
      "\n",
      "Loading required package: mvtnorm\n",
      "\n",
      "Loading required package: sm\n",
      "\n",
      "Package 'sm', version 2.2-5.7: type help(sm) for summary information\n",
      "\n",
      "\n",
      "Attaching package: 'sm'\n",
      "\n",
      "\n",
      "The following object is masked from 'package:MASS':\n",
      "\n",
      "    muscle\n",
      "\n",
      "\n",
      "Loading required package: zoo\n",
      "\n",
      "\n",
      "Attaching package: 'zoo'\n",
      "\n",
      "\n",
      "The following objects are masked from 'package:base':\n",
      "\n",
      "    as.Date, as.Date.numeric\n",
      "\n",
      "\n"
     ]
    }
   ],
   "source": [
    "library(ape)\n",
    "library(phytools)\n",
    "library(geiger)\n",
    "library(phylolm)\n",
    "library(caper)\n",
    "library(vioplot)"
   ]
  },
  {
   "cell_type": "code",
   "execution_count": 6,
   "id": "739734a7",
   "metadata": {
    "vscode": {
     "languageId": "r"
    }
   },
   "outputs": [],
   "source": [
    "ddata <- read.csv('..//data//Data_mammalia_150.csv')\n",
    "ttree <- read.nexus('..//data//1000_random_phylogenies_consensus _Vertlife.nexus')\n",
    "\n",
    "ddata$phy_label <- gsub(\" \",\"_\",ddata$taxon_species)\n",
    "row.names(ddata) <- ddata$phy_label"
   ]
  },
  {
   "cell_type": "code",
   "execution_count": 7,
   "id": "5e6280b5",
   "metadata": {
    "vscode": {
     "languageId": "r"
    }
   },
   "outputs": [],
   "source": [
    "# return dataframe data and phylogenetic tree\n",
    "prunDataTree <- function(data_data, data_tree, varc){\n",
    "  # data_data, data.frame\n",
    "  # data_tree, phylogenetic tree\n",
    "  # varc, variable list, ie, varc = list(y='y_var', x='x_var',...)\n",
    "  varc_values = unlist(varc, use.names = FALSE)\n",
    "  data_sub <- data_data[complete.cases(data_data[varc_values]),]\n",
    "  chk <- name.check(data_tree, data_sub)\n",
    "  \n",
    "  ttree.sub <- drop.tip(data_tree, chk$tree_not_data)\n",
    "  ddata.sub <- data_sub[! rownames(data_sub) %in% chk$data_not_tree,]\n",
    "  ddata.sub <- ddata.sub[order(ddata.sub$taxon_family), ]\n",
    "  \n",
    "  ttree.sub <- multi2di(ttree.sub)\n",
    "  ttree.sub$node.label <- 1:length(ttree.sub$node.label)\n",
    "  return(list(phy=ttree.sub, data=ddata.sub))\n",
    "}"
   ]
  },
  {
   "cell_type": "code",
   "execution_count": 8,
   "id": "4649c838",
   "metadata": {
    "scrolled": true,
    "vscode": {
     "languageId": "r"
    }
   },
   "outputs": [
    {
     "data": {
      "text/html": [
       "63"
      ],
      "text/latex": [
       "63"
      ],
      "text/markdown": [
       "63"
      ],
      "text/plain": [
       "[1] 63"
      ]
     },
     "metadata": {},
     "output_type": "display_data"
    }
   ],
   "source": [
    "ddata_Nc = ddata[ddata$mammalia_class!='aquatic' & !is.na(ddata$Estimated_population_size),]\n",
    "nrow(ddata_Nc)"
   ]
  },
  {
   "cell_type": "code",
   "execution_count": null,
   "id": "286b3d84",
   "metadata": {
    "vscode": {
     "languageId": "r"
    }
   },
   "outputs": [],
   "source": []
  },
  {
   "cell_type": "markdown",
   "id": "faa963fa",
   "metadata": {},
   "source": [
    "## PGLS, census population size (NC) ~ generation time + adult mass"
   ]
  },
  {
   "cell_type": "code",
   "execution_count": 12,
   "id": "24f11511",
   "metadata": {
    "scrolled": false,
    "vscode": {
     "languageId": "r"
    }
   },
   "outputs": [
    {
     "name": "stdout",
     "output_type": "stream",
     "text": [
      "[1] \"---------------------------Nc ~ gt + mass\"\n"
     ]
    },
    {
     "data": {
      "text/plain": [
       "\n",
       "Call:\n",
       "phylolm(formula = log(Estimated_population_size) ~ log(GT) + \n",
       "    log(mass), data = prun_data$data, phy = prun_data$phy, model = \"lambda\")\n",
       "\n",
       "   AIC logLik \n",
       " 279.4 -134.7 \n",
       "\n",
       "Raw residuals:\n",
       "    Min      1Q  Median      3Q     Max \n",
       "-5.4809 -1.5612 -0.4144  1.6862  5.4956 \n",
       "\n",
       "Mean tip height: 159.5321\n",
       "Parameter estimate(s) using ML:\n",
       "lambda : 0.6536243\n",
       "sigma2: 0.05469003 \n",
       "\n",
       "Coefficients:\n",
       "            Estimate   StdErr t.value   p.value    \n",
       "(Intercept) 30.99404  3.14996  9.8395 6.781e-14 ***\n",
       "log(GT)     -1.58891  0.59253 -2.6816  0.009568 ** \n",
       "log(mass)   -0.38321  0.18572 -2.0634  0.043637 *  \n",
       "---\n",
       "Signif. codes:  0 '***' 0.001 '**' 0.01 '*' 0.05 '.' 0.1 ' ' 1\n",
       "\n",
       "R-squared: 0.4444\tAdjusted R-squared: 0.4249 \n",
       "\n",
       "Note: p-values and R-squared are conditional on lambda=0.6536243."
      ]
     },
     "metadata": {},
     "output_type": "display_data"
    },
    {
     "name": "stdout",
     "output_type": "stream",
     "text": [
      "mss+gt: length data:  60 \n",
      "[1] \"---------------------------Nc ~ mass\"\n"
     ]
    },
    {
     "data": {
      "text/plain": [
       "\n",
       "Call:\n",
       "phylolm(formula = log(Estimated_population_size) ~ log(mass), \n",
       "    data = prun_data$data, phy = prun_data$phy, model = \"lambda\")\n",
       "\n",
       "   AIC logLik \n",
       " 284.2 -138.1 \n",
       "\n",
       "Raw residuals:\n",
       "    Min      1Q  Median      3Q     Max \n",
       "-6.4646 -1.6005 -0.2512  1.5518  7.5114 \n",
       "\n",
       "Mean tip height: 159.5321\n",
       "Parameter estimate(s) using ML:\n",
       "lambda : 0.739159\n",
       "sigma2: 0.07010629 \n",
       "\n",
       "Coefficients:\n",
       "            Estimate   StdErr t.value   p.value    \n",
       "(Intercept) 23.73533  1.87607 12.6516 < 2.2e-16 ***\n",
       "log(mass)   -0.74705  0.13212 -5.6542 5.028e-07 ***\n",
       "---\n",
       "Signif. codes:  0 '***' 0.001 '**' 0.01 '*' 0.05 '.' 0.1 ' ' 1\n",
       "\n",
       "R-squared: 0.3553\tAdjusted R-squared: 0.3442 \n",
       "\n",
       "Note: p-values and R-squared are conditional on lambda=0.739159."
      ]
     },
     "metadata": {},
     "output_type": "display_data"
    },
    {
     "data": {
      "image/png": "[encoded data removed]",
      "text/plain": [
       "plot without title"
      ]
     },
     "metadata": {
      "image/png": {
       "height": 420,
       "width": 420
      }
     },
     "output_type": "display_data"
    },
    {
     "name": "stdout",
     "output_type": "stream",
     "text": [
      "[1] \"---------------------------Nc ~ GT\"\n"
     ]
    },
    {
     "data": {
      "text/plain": [
       "\n",
       "Call:\n",
       "phylolm(formula = log(Estimated_population_size) ~ log(GT), data = prun_data$data, \n",
       "    phy = prun_data$phy, model = \"lambda\")\n",
       "\n",
       "   AIC logLik \n",
       " 281.7 -136.8 \n",
       "\n",
       "Raw residuals:\n",
       "   Min     1Q Median     3Q    Max \n",
       "-6.620 -1.978 -0.182  1.664  4.415 \n",
       "\n",
       "Mean tip height: 159.5321\n",
       "Parameter estimate(s) using ML:\n",
       "lambda : 0.6748635\n",
       "sigma2: 0.06059728 \n",
       "\n",
       "Coefficients:\n",
       "            Estimate   StdErr t.value   p.value    \n",
       "(Intercept) 33.96918  2.91750 11.6433 < 2.2e-16 ***\n",
       "log(GT)     -2.50509  0.40498 -6.1858 6.719e-08 ***\n",
       "---\n",
       "Signif. codes:  0 '***' 0.001 '**' 0.01 '*' 0.05 '.' 0.1 ' ' 1\n",
       "\n",
       "R-squared: 0.3975\tAdjusted R-squared: 0.3871 \n",
       "\n",
       "Note: p-values and R-squared are conditional on lambda=0.6748635."
      ]
     },
     "metadata": {},
     "output_type": "display_data"
    },
    {
     "data": {
      "image/png": "[encoded data removed]",
      "text/plain": [
       "plot without title"
      ]
     },
     "metadata": {
      "image/png": {
       "height": 420,
       "width": 420
      }
     },
     "output_type": "display_data"
    },
    {
     "data": {
      "image/png": "[encoded data removed]",
      "text/plain": [
       "plot without title"
      ]
     },
     "metadata": {
      "image/png": {
       "height": 420,
       "width": 420
      }
     },
     "output_type": "display_data"
    }
   ],
   "source": [
    "# pgls analysis between Nc and mass, GT\n",
    "# method = \"BM\", \"OUrandomRoot\", \"OUfixedRoot\", \"lambda\", \"kappa\", \"delta\", \"EB\", \"trend\"\n",
    "prun_data <- prunDataTree(ddata_Nc, \n",
    "                          ttree, \n",
    "                          list(x1='Estimated_population_size', x2='GT', x3='mass'))\n",
    "\n",
    "print('---------------------------Nc ~ gt + mass')\n",
    "pgls.model.nc <- phylolm(log(Estimated_population_size) ~ log(GT) + log(mass)\n",
    "                    ,data=prun_data$data\n",
    "                    ,phy =prun_data$phy\n",
    "                    ,model='lambda')\n",
    "\n",
    "summary(pgls.model.nc)\n",
    "plot(pgls.model.nc)\n",
    "cat(\"mass+gt: length data: \", length(prun_data$data$phy_label), \"\\n\")\n",
    "\n",
    "abline(a = 0, b = 1, col = \"red\", lwd = 1, lty=1)\n",
    "\n",
    "print('---------------------------Nc ~ mass')\n",
    "\n",
    "pgls.model.nc.mass <- phylolm(log(Estimated_population_size) ~ log(mass)\n",
    "                    ,data=prun_data$data\n",
    "                    ,phy =prun_data$phy\n",
    "                    ,model='lambda')\n",
    "\n",
    "summary(pgls.model.nc.mass)\n",
    "plot(log(Estimated_population_size) ~ log(mass),data=prun_data$data)\n",
    "abline(pgls.model.nc.mass)\n",
    "\n",
    "print('---------------------------Nc ~ GT')\n",
    "\n",
    "pgls.model.nc.gt <- phylolm(log(Estimated_population_size) ~ log(GT)\n",
    "                    ,data=prun_data$data\n",
    "                    ,phy =prun_data$phy\n",
    "                    ,model='lambda')\n",
    "\n",
    "summary(pgls.model.nc.gt)\n",
    "plot(log(Estimated_population_size) ~ log(GT),data=prun_data$data)\n",
    "abline(pgls.model.nc.gt)"
   ]
  },
  {
   "cell_type": "code",
   "execution_count": null,
   "metadata": {
    "vscode": {
     "languageId": "r"
    }
   },
   "outputs": [],
   "source": []
  },
  {
   "cell_type": "markdown",
   "id": "fc96d115",
   "metadata": {},
   "source": [
    "## PIC, NC ~ generation time + adult mass"
   ]
  },
  {
   "cell_type": "code",
   "execution_count": 13,
   "id": "a3582b43",
   "metadata": {
    "scrolled": false,
    "vscode": {
     "languageId": "r"
    }
   },
   "outputs": [
    {
     "data": {
      "text/plain": [
       "\n",
       "\tPearson's product-moment correlation\n",
       "\n",
       "data:  pic.Nc and pic.mass\n",
       "t = -3.5354, df = 57, p-value = 0.0008162\n",
       "alternative hypothesis: true correlation is not equal to 0\n",
       "95 percent confidence interval:\n",
       " -0.6135359 -0.1884694\n",
       "sample estimates:\n",
       "       cor \n",
       "-0.4240838 \n"
      ]
     },
     "metadata": {},
     "output_type": "display_data"
    },
    {
     "data": {
      "text/plain": [
       "\n",
       "\tPearson's product-moment correlation\n",
       "\n",
       "data:  pic.Nc and pic.gt\n",
       "t = -2.9907, df = 57, p-value = 0.004105\n",
       "alternative hypothesis: true correlation is not equal to 0\n",
       "95 percent confidence interval:\n",
       " -0.5705598 -0.1238903\n",
       "sample estimates:\n",
       "       cor \n",
       "-0.3682882 \n"
      ]
     },
     "metadata": {},
     "output_type": "display_data"
    },
    {
     "data": {
      "image/png": "[encoded data removed]",
      "text/plain": [
       "plot without title"
      ]
     },
     "metadata": {
      "image/png": {
       "height": 420,
       "width": 420
      }
     },
     "output_type": "display_data"
    },
    {
     "data": {
      "image/png": "[encoded data removed]",
      "text/plain": [
       "plot without title"
      ]
     },
     "metadata": {
      "image/png": {
       "height": 420,
       "width": 420
      }
     },
     "output_type": "display_data"
    }
   ],
   "source": [
    "# PIC analysis between Nc and mass, GT\n",
    "prun_data <- prunDataTree(ddata_Nc, \n",
    "                          ttree, \n",
    "                          list(x1='Estimated_population_size', x2='GT', x3='mass'))\n",
    "Nc   <- setNames(log(prun_data$data$Estimated_population_size), rownames(prun_data$data))\n",
    "mass <- setNames(log(prun_data$data$mass), rownames(prun_data$data))\n",
    "gt <- setNames(log(prun_data$data$GT), rownames(prun_data$data))\n",
    "\n",
    "\n",
    "# PIC\n",
    "pic.Nc <- pic(Nc, prun_data$phy)\n",
    "pic.mass <- pic(mass, prun_data$phy)\n",
    "pic.gt <- pic(gt, prun_data$phy)\n",
    "\n",
    "\n",
    "cor.test(pic.Nc, pic.mass)\n",
    "plot(pic.Nc ~ pic.mass)\n",
    "abline(lm(pic.Nc ~ pic.mass-1))\n",
    "\n",
    "cor.test(pic.Nc, pic.gt)\n",
    "plot(pic.Nc ~ pic.gt)\n",
    "abline(lm(pic.Nc ~ pic.gt-1))"
   ]
  },
  {
   "cell_type": "markdown",
   "id": "c86592de",
   "metadata": {},
   "source": [
    "## PGLS; log(NC) ~ TAAI"
   ]
  },
  {
   "cell_type": "markdown",
   "id": "3117f457",
   "metadata": {},
   "source": [
    "### Fig. 3 (A)"
   ]
  },
  {
   "cell_type": "code",
   "execution_count": 16,
   "id": "39d30ef8",
   "metadata": {
    "scrolled": false,
    "vscode": {
     "languageId": "r"
    }
   },
   "outputs": [
    {
     "name": "stdout",
     "output_type": "stream",
     "text": [
      "[1] \"---------------------------Nc ~ TAAI\"\n",
      "[1] 63\n",
      "[1] \"outliers\"\n",
      "character(0)\n"
     ]
    },
    {
     "data": {
      "text/plain": [
       "\n",
       "Call:\n",
       "phylolm(formula = log(Estimated_population_size) ~ TAAI_proteome, \n",
       "    data = prun_data$data, phy = prun_data$phy, model = \"lambda\")\n",
       "\n",
       "   AIC logLik \n",
       " 323.6 -157.8 \n",
       "\n",
       "Raw residuals:\n",
       "    Min      1Q  Median      3Q     Max \n",
       "-9.6776 -3.7731 -0.5505  2.2492  9.1910 \n",
       "\n",
       "Mean tip height: 159.5321\n",
       "Parameter estimate(s) using ML:\n",
       "lambda : 0.8724249\n",
       "sigma2: 0.1399204 \n",
       "\n",
       "Coefficients:\n",
       "              Estimate   StdErr t.value   p.value    \n",
       "(Intercept)   18.36416  3.48246  5.2733 1.864e-06 ***\n",
       "TAAI_proteome  0.18688  3.74613  0.0499    0.9604    \n",
       "---\n",
       "Signif. codes:  0 '***' 0.001 '**' 0.01 '*' 0.05 '.' 0.1 ' ' 1\n",
       "\n",
       "R-squared: 4.079e-05\tAdjusted R-squared: -0.01635 \n",
       "\n",
       "Note: p-values and R-squared are conditional on lambda=0.8724249."
      ]
     },
     "metadata": {},
     "output_type": "display_data"
    },
    {
     "data": {
      "image/png": "[encoded data removed]",
      "text/plain": [
       "plot without title"
      ]
     },
     "metadata": {
      "image/png": {
       "height": 420,
       "width": 420
      }
     },
     "output_type": "display_data"
    }
   ],
   "source": [
    "# pgls analysis between Nc and mass, GT\n",
    "# method = \"BM\", \"OUrandomRoot\", \"OUfixedRoot\", \"lambda\", \"kappa\", \"delta\", \"EB\", \"trend\"\n",
    "prun_data <- prunDataTree(ddata_Nc, \n",
    "                          ttree, \n",
    "                          list(x1='Estimated_population_size', x2='TAAI_proteome'))\n",
    "\n",
    "print('---------------------------Nc ~ TAAI')\n",
    "pgls.model.nc.taai <- phylolm(log(Estimated_population_size) ~ TAAI_proteome\n",
    "                    ,data=prun_data$data\n",
    "                    ,phy =prun_data$phy\n",
    "                    ,model='lambda')\n",
    "print(nrow(prun_data$data))\n",
    "\n",
    "res<- residuals(pgls.model.nc.taai, phylo = TRUE)\n",
    "res<- res/sqrt(var(res))[1]\n",
    "outliers <- names(res)[(abs(res)>3)]\n",
    "print('outliers')\n",
    "print(outliers)\n",
    "\n",
    "summary(pgls.model.nc.taai)\n",
    "plot(log(Estimated_population_size) ~ TAAI_proteome,data=prun_data$data)\n",
    "abline(pgls.model.nc.taai, col='red')"
   ]
  },
  {
   "cell_type": "markdown",
   "id": "3d0a326c",
   "metadata": {},
   "source": [
    "## same dataset: GTres ~ TAAI"
   ]
  },
  {
   "cell_type": "code",
   "execution_count": 17,
   "id": "729e2113",
   "metadata": {
    "scrolled": false,
    "vscode": {
     "languageId": "r"
    }
   },
   "outputs": [
    {
     "name": "stdout",
     "output_type": "stream",
     "text": [
      "---------------------------GTres ~ TAAI ,nrow:  60 \n"
     ]
    },
    {
     "data": {
      "text/plain": [
       "\n",
       "Call:\n",
       "phylolm(formula = GTres ~ TAAI_proteome, data = prun_data$data, \n",
       "    phy = prun_data$phy, model = \"lambda\")\n",
       "\n",
       "   AIC logLik \n",
       "133.43 -62.72 \n",
       "\n",
       "Raw residuals:\n",
       "    Min      1Q  Median      3Q     Max \n",
       "-1.2976 -0.8437 -0.2991  0.3689  3.3189 \n",
       "\n",
       "Mean tip height: 159.5321\n",
       "Parameter estimate(s) using ML:\n",
       "lambda : 0.9360203\n",
       "sigma2: 0.009579862 \n",
       "\n",
       "Coefficients:\n",
       "              Estimate   StdErr t.value  p.value   \n",
       "(Intercept)    2.52349  0.87625  2.8799 0.005565 **\n",
       "TAAI_proteome -1.64336  0.86283 -1.9046 0.061793 . \n",
       "---\n",
       "Signif. codes:  0 '***' 0.001 '**' 0.01 '*' 0.05 '.' 0.1 ' ' 1\n",
       "\n",
       "R-squared: 0.05886\tAdjusted R-squared: 0.04264 \n",
       "\n",
       "Note: p-values and R-squared are conditional on lambda=0.9360203."
      ]
     },
     "metadata": {},
     "output_type": "display_data"
    },
    {
     "name": "stdout",
     "output_type": "stream",
     "text": [
      "outliers: Hylobates_moloch \n"
     ]
    },
    {
     "data": {
      "text/plain": [
       "\n",
       "\tSpearman's rank correlation rho\n",
       "\n",
       "data:  pic.nc and pic.taai\n",
       "S = 36306, p-value = 0.6457\n",
       "alternative hypothesis: true rho is not equal to 0\n",
       "sample estimates:\n",
       "       rho \n",
       "-0.0609585 \n"
      ]
     },
     "metadata": {},
     "output_type": "display_data"
    },
    {
     "name": "stdout",
     "output_type": "stream",
     "text": [
      "---------------------------GTres ~ TAAI ,nrow:  59 \n",
      "outliers: "
     ]
    },
    {
     "data": {
      "text/plain": [
       "\n",
       "Call:\n",
       "phylolm(formula = GTres ~ TAAI_proteome, data = prun_data_V2$data, \n",
       "    phy = prun_data_V2$phy, model = \"lambda\")\n",
       "\n",
       "   AIC logLik \n",
       "116.55 -54.28 \n",
       "\n",
       "Raw residuals:\n",
       "    Min      1Q  Median      3Q     Max \n",
       "-1.3047 -0.8602 -0.2991  0.3369  2.2584 \n",
       "\n",
       "Mean tip height: 159.5321\n",
       "Parameter estimate(s) using ML:\n",
       "lambda : 0.9443898\n",
       "sigma2: 0.007672515 \n",
       "\n",
       "Coefficients:\n",
       "              Estimate   StdErr t.value  p.value   \n",
       "(Intercept)    2.64590  0.77785  3.4015 0.001231 **\n",
       "TAAI_proteome -1.83618  0.75416 -2.4347 0.018056 * \n",
       "---\n",
       "Signif. codes:  0 '***' 0.001 '**' 0.01 '*' 0.05 '.' 0.1 ' ' 1\n",
       "\n",
       "R-squared: 0.0942\tAdjusted R-squared: 0.07831 \n",
       "\n",
       "Note: p-values and R-squared are conditional on lambda=0.9443898."
      ]
     },
     "metadata": {},
     "output_type": "display_data"
    },
    {
     "data": {
      "image/png": "[encoded data removed]",
      "text/plain": [
       "plot without title"
      ]
     },
     "metadata": {
      "image/png": {
       "height": 420,
       "width": 420
      }
     },
     "output_type": "display_data"
    },
    {
     "data": {
      "text/plain": [
       "\n",
       "\tPearson's product-moment correlation\n",
       "\n",
       "data:  pic.gtres and pic.taai\n",
       "t = -2.4166, df = 56, p-value = 0.01895\n",
       "alternative hypothesis: true correlation is not equal to 0\n",
       "95 percent confidence interval:\n",
       " -0.52400643 -0.05323346\n",
       "sample estimates:\n",
       "       cor \n",
       "-0.3073038 \n"
      ]
     },
     "metadata": {},
     "output_type": "display_data"
    },
    {
     "data": {
      "image/png": "[encoded data removed]",
      "text/plain": [
       "plot without title"
      ]
     },
     "metadata": {
      "image/png": {
       "height": 420,
       "width": 420
      }
     },
     "output_type": "display_data"
    },
    {
     "data": {
      "image/png": "[encoded data removed]",
      "text/plain": [
       "plot without title"
      ]
     },
     "metadata": {
      "image/png": {
       "height": 420,
       "width": 420
      }
     },
     "output_type": "display_data"
    }
   ],
   "source": [
    "# pgls analysis between Nc TAAI\n",
    "# method = \"BM\", \"OUrandomRoot\", \"OUfixedRoot\", \"lambda\", \"kappa\", \"delta\", \"EB\", \"trend\"\n",
    "prun_data <- prunDataTree(ddata_Nc, \n",
    "                          ttree, \n",
    "                          list(x1='Estimated_population_size', x2='TAAI_proteome', x3='GTres'))\n",
    "\n",
    "cat('---------------------------GTres ~ TAAI', ',nrow: ', nrow(prun_data$data),'\\n')\n",
    "pgls.nc.gtres <- phylolm(GTres ~ TAAI_proteome\n",
    "                    ,data=prun_data$data\n",
    "                    ,phy =prun_data$phy\n",
    "                    ,model='lambda')\n",
    "summary(pgls.nc.gtres)\n",
    "\n",
    "res<- residuals(pgls.nc.gtres, phylo = TRUE)\n",
    "res<- res/sqrt(var(res))[1]\n",
    "outliers <- names(res)[(abs(res)>3)]\n",
    "cat('outliers:',outliers,'\\n')\n",
    "\n",
    "# PIC correlation\n",
    "nc <- setNames(log(prun_data$data$Estimated_population_size), rownames(prun_data$data))\n",
    "taai  <- setNames(prun_data$data$TAAI_proteome, rownames(prun_data$data))\n",
    "\n",
    "\n",
    "# PIC\n",
    "pic.nc <- pic(nc, prun_data$phy)\n",
    "pic.taai <- pic(taai, prun_data$phy)\n",
    "\n",
    "\n",
    "cor.test(pic.nc, pic.taai, method='spearman')\n",
    "plot(pic.nc ~ pic.taai)\n",
    "abline(lm(pic.nc ~ pic.taai-1))\n",
    "\n",
    "\n",
    "\n",
    "\n",
    "ddata_filter <- prun_data$data[!prun_data$data$phy_label %in% outliers ,]\n",
    "prun_data_V2 <- prunDataTree(ddata_filter, \n",
    "                             ttree, \n",
    "                             list(x1='Estimated_population_size', x2='TAAI_proteome', x3='GTres'))\n",
    "\n",
    "cat('---------------------------GTres ~ TAAI', ',nrow: ', nrow(prun_data_V2$data),'\\n')\n",
    "pgls.nc.gtres.out <- phylolm(GTres ~ TAAI_proteome\n",
    "                            ,data=prun_data_V2$data\n",
    "                            ,phy =prun_data_V2$phy\n",
    "                            ,model='lambda')\n",
    "res<- residuals(pgls.nc.gtres.out, phylo = TRUE)\n",
    "res<- res/sqrt(var(res))[1]\n",
    "outliers <- names(res)[(abs(res)>3)]\n",
    "cat('outliers:',outliers)\n",
    "\n",
    "summary(pgls.nc.gtres.out)\n",
    "plot(GTres ~ TAAI_proteome,data=prun_data_V2$data)\n",
    "abline(pgls.nc.gtres.out, col='red')\n",
    "\n",
    "# PIC correlation\n",
    "gtres <- setNames(prun_data_V2$data$GTres, rownames(prun_data_V2$data))\n",
    "taai  <- setNames(prun_data_V2$data$TAAI_proteome, rownames(prun_data_V2$data))\n",
    "\n",
    "\n",
    "# PIC\n",
    "pic.gtres <- pic(gtres, prun_data_V2$phy)\n",
    "pic.taai <- pic(taai, prun_data_V2$phy)\n",
    "\n",
    "\n",
    "cor.test(pic.gtres, pic.taai)\n",
    "plot(pic.gtres ~ pic.taai)\n",
    "abline(lm(pic.gtres ~ pic.taai-1))"
   ]
  },
  {
   "cell_type": "code",
   "execution_count": null,
   "id": "0495b924",
   "metadata": {
    "vscode": {
     "languageId": "r"
    }
   },
   "outputs": [],
   "source": []
  },
  {
   "cell_type": "markdown",
   "id": "a39c65b0",
   "metadata": {},
   "source": [
    "## Adult body mass ~ TAAI"
   ]
  },
  {
   "cell_type": "markdown",
   "id": "4e958e0f",
   "metadata": {},
   "source": [
    "### Fig. 3(B)"
   ]
  },
  {
   "cell_type": "code",
   "execution_count": 18,
   "id": "69521609",
   "metadata": {
    "scrolled": false,
    "vscode": {
     "languageId": "r"
    }
   },
   "outputs": [
    {
     "name": "stdout",
     "output_type": "stream",
     "text": [
      "[1] \"---------------------------mass ~ TAAI\"\n",
      "[1] \"outliers\"\n",
      "character(0)\n",
      "data length:\t 125"
     ]
    },
    {
     "data": {
      "text/plain": [
       "\n",
       "Call:\n",
       "phylolm(formula = log(mass) ~ TAAI_proteome, data = prun_data$data, \n",
       "    phy = prun_data$phy, model = \"lambda\")\n",
       "\n",
       "   AIC logLik \n",
       " 489.1 -240.6 \n",
       "\n",
       "Raw residuals:\n",
       "   Min     1Q Median     3Q    Max \n",
       "-6.028 -2.671  1.390  3.946  8.577 \n",
       "\n",
       "Mean tip height: 188.3046\n",
       "Parameter estimate(s) using ML:\n",
       "lambda : 1\n",
       "sigma2: 0.1054201 \n",
       "\n",
       "Coefficients:\n",
       "              Estimate  StdErr t.value p.value  \n",
       "(Intercept)    6.57362 2.53147  2.5968 0.01056 *\n",
       "TAAI_proteome  0.36435 1.23843  0.2942 0.76910  \n",
       "---\n",
       "Signif. codes:  0 '***' 0.001 '**' 0.01 '*' 0.05 '.' 0.1 ' ' 1\n",
       "\n",
       "R-squared: 0.0007032\tAdjusted R-squared: -0.007421 \n",
       "\n",
       "Note: p-values and R-squared are conditional on lambda=1."
      ]
     },
     "metadata": {},
     "output_type": "display_data"
    },
    {
     "data": {
      "text/plain": [
       "\n",
       "\tPearson's product-moment correlation\n",
       "\n",
       "data:  pic.mass and pic.taai\n",
       "t = 0.33245, df = 122, p-value = 0.7401\n",
       "alternative hypothesis: true correlation is not equal to 0\n",
       "95 percent confidence interval:\n",
       " -0.1470110  0.2053129\n",
       "sample estimates:\n",
       "       cor \n",
       "0.03008542 \n"
      ]
     },
     "metadata": {},
     "output_type": "display_data"
    },
    {
     "name": "stderr",
     "output_type": "stream",
     "text": [
      "Warning message in cor.test.default(pic.mass, pic.taai, method = \"spearman\"):\n",
      "\"Cannot compute exact p-value with ties\"\n"
     ]
    },
    {
     "data": {
      "text/plain": [
       "\n",
       "\tSpearman's rank correlation rho\n",
       "\n",
       "data:  pic.mass and pic.taai\n",
       "S = 303178, p-value = 0.613\n",
       "alternative hypothesis: true rho is not equal to 0\n",
       "sample estimates:\n",
       "       rho \n",
       "0.04586024 \n"
      ]
     },
     "metadata": {},
     "output_type": "display_data"
    },
    {
     "data": {
      "image/png": "[encoded data removed]",
      "text/plain": [
       "plot without title"
      ]
     },
     "metadata": {
      "image/png": {
       "height": 420,
       "width": 420
      }
     },
     "output_type": "display_data"
    },
    {
     "data": {
      "image/png": "[encoded data removed]",
      "text/plain": [
       "plot without title"
      ]
     },
     "metadata": {
      "image/png": {
       "height": 420,
       "width": 420
      }
     },
     "output_type": "display_data"
    }
   ],
   "source": [
    "# pgls analysis between mass and TAAI\n",
    "# method = \"BM\", \"OUrandomRoot\", \"OUfixedRoot\", \"lambda\", \"kappa\", \"delta\", \"EB\", \"trend\"\n",
    "prun_data <- prunDataTree(ddata[ddata$mammalia_class!='aquatic',], \n",
    "                          ttree, \n",
    "                          list(x1='mass', x2='TAAI_proteome'))\n",
    "\n",
    "print('---------------------------mass ~ TAAI')\n",
    "pgls.mass.taai <- phylolm(log(mass) ~ TAAI_proteome\n",
    "                    ,data=prun_data$data\n",
    "                    ,phy =prun_data$phy\n",
    "                    ,model='lambda')\n",
    "\n",
    "res<- residuals(pgls.mass.taai, phylo = TRUE)\n",
    "res<- res/sqrt(var(res))[1]\n",
    "outliers <- names(res)[(abs(res)>3)]\n",
    "print('outliers')\n",
    "print(outliers)\n",
    "\n",
    "cat('data length:\\t', nrow(prun_data$data))\n",
    "\n",
    "summary(pgls.mass.taai)\n",
    "plot(log(mass) ~ TAAI_proteome,data=prun_data$data)\n",
    "abline(pgls.mass.taai, col='red')\n",
    "\n",
    "# PIC correlation\n",
    "mass <- setNames(log(prun_data$data$mass), rownames(prun_data$data))\n",
    "taai <- setNames(prun_data$data$TAAI_proteome, rownames(prun_data$data))\n",
    "\n",
    "\n",
    "# PIC\n",
    "pic.mass <- pic(mass, prun_data$phy)\n",
    "pic.taai <- pic(taai, prun_data$phy)\n",
    "\n",
    "\n",
    "cor.test(pic.mass, pic.taai, method='pearson')\n",
    "cor.test(pic.mass, pic.taai, method='spearman')\n",
    "\n",
    "plot(pic.mass ~ pic.taai)\n",
    "abline(lm(pic.mass ~ pic.taai-1), col='red')"
   ]
  },
  {
   "cell_type": "code",
   "execution_count": null,
   "id": "49016b16",
   "metadata": {
    "vscode": {
     "languageId": "r"
    }
   },
   "outputs": [],
   "source": []
  },
  {
   "cell_type": "code",
   "execution_count": null,
   "id": "b6984a54",
   "metadata": {
    "vscode": {
     "languageId": "r"
    }
   },
   "outputs": [],
   "source": []
  },
  {
   "cell_type": "code",
   "execution_count": null,
   "id": "5354fa65",
   "metadata": {
    "vscode": {
     "languageId": "r"
    }
   },
   "outputs": [],
   "source": []
  }
 ],
 "metadata": {
  "kernelspec": {
   "display_name": "R 4.1",
   "language": "R",
   "name": "ir41"
  },
  "language_info": {
   "codemirror_mode": "r",
   "file_extension": ".r",
   "mimetype": "text/x-r-source",
   "name": "R",
   "pygments_lexer": "r",
   "version": "4.3.1"
  }
 },
 "nbformat": 4,
 "nbformat_minor": 5
}
