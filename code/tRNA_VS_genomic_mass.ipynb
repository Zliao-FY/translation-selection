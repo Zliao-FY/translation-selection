{
 "cells": [
  {
   "cell_type": "code",
   "execution_count": 1,
   "id": "78479cdd",
   "metadata": {
    "vscode": {
     "languageId": "r"
    }
   },
   "outputs": [
    {
     "name": "stderr",
     "output_type": "stream",
     "text": [
      "Warning message:\n",
      "\"package 'phytools' was built under R version 4.3.2\"\n",
      "Loading required package: maps\n",
      "\n",
      "Warning message:\n",
      "\"package 'maps' was built under R version 4.3.2\"\n",
      "Loading required package: MASS\n",
      "\n",
      "Loading required package: mvtnorm\n",
      "\n"
     ]
    }
   ],
   "source": [
    "library(ape)\n",
    "library(phytools)\n",
    "library(geiger)\n",
    "library(phylolm)\n",
    "library(caper)"
   ]
  },
  {
   "cell_type": "code",
   "execution_count": 3,
   "id": "1bb66894",
   "metadata": {
    "vscode": {
     "languageId": "r"
    }
   },
   "outputs": [],
   "source": [
    "ddata <- read.csv('..//data//Data_mammalia_150.csv')\n",
    "ttree <- read.nexus('..//data//1000_random_phylogenies_consensus _Vertlife.nexus')\n",
    "\n",
    "ddata$phy_label <- gsub(\" \",\"_\",ddata$taxon_species)\n",
    "row.names(ddata) <- ddata$phy_label"
   ]
  },
  {
   "cell_type": "code",
   "execution_count": 4,
   "id": "4fb6dd8c",
   "metadata": {
    "vscode": {
     "languageId": "r"
    }
   },
   "outputs": [
    {
     "data": {
      "text/plain": [
       "\n",
       "   Afrosoricida    Artiodactyla       Carnivora      Chiroptera  Dasyuromorphia \n",
       "              2              23              31              14               2 \n",
       "Didelphimorphia   Diprotodontia    Eulipotyphla      Lagomorpha   Macroscelidea \n",
       "              2               2               4               3               1 \n",
       " Microbiotheria     Monotremata  Perissodactyla       Pholidota          Pilosa \n",
       "              1               2               4               1               1 \n",
       "       Primates     Proboscidea        Rodentia         Sirenia \n",
       "             25               2              29               1 "
      ]
     },
     "metadata": {},
     "output_type": "display_data"
    }
   ],
   "source": [
    "table(ddata$taxon_order)"
   ]
  },
  {
   "cell_type": "code",
   "execution_count": 5,
   "id": "3b692e1f",
   "metadata": {
    "vscode": {
     "languageId": "r"
    }
   },
   "outputs": [],
   "source": [
    "# return dataframe data and phylogenetic tree\n",
    "prunDataTree <- function(data_data, data_tree, varc){\n",
    "  # data_data, data.frame\n",
    "  # data_tree, phylogenetic tree\n",
    "  # varc, variable list, ie, varc = list(y='y_var', x='x_var',...)\n",
    "  varc_values = unlist(varc, use.names = FALSE)\n",
    "  data_sub <- data_data[complete.cases(data_data[varc_values]),]\n",
    "  chk <- name.check(data_tree, data_sub)\n",
    "  \n",
    "  ttree.sub <- drop.tip(data_tree, chk$tree_not_data)\n",
    "  ddata.sub <- data_sub[! rownames(data_sub) %in% chk$data_not_tree,]\n",
    "  ddata.sub <- ddata.sub[order(ddata.sub$taxon_family), ]\n",
    "  \n",
    "  ttree.sub <- multi2di(ttree.sub)\n",
    "  ttree.sub$node.label <- 1:length(ttree.sub$node.label)\n",
    "  return(list(phy=ttree.sub, data=ddata.sub))\n",
    "}"
   ]
  },
  {
   "cell_type": "markdown",
   "id": "b4d82510",
   "metadata": {},
   "source": [
    "## genome length VS tRNA copy"
   ]
  },
  {
   "cell_type": "code",
   "execution_count": 6,
   "id": "8d21f4d5",
   "metadata": {
    "vscode": {
     "languageId": "r"
    }
   },
   "outputs": [],
   "source": [
    "data1 <- prunDataTree(ddata, ttree, list(x1='tRNA_CPN', x2='genomic_len'))\n",
    "tcpn <- log(data1$data$tRNA_CPN, base=10)\n",
    "names(tcpn) <- rownames(data1$data)\n",
    "\n",
    "glen <- log(data1$data$genomic_len, base=10)\n",
    "names(glen) <- rownames(data1$data)"
   ]
  },
  {
   "cell_type": "code",
   "execution_count": 7,
   "id": "24a20e7c",
   "metadata": {
    "vscode": {
     "languageId": "r"
    }
   },
   "outputs": [
    {
     "data": {
      "text/plain": [
       "\n",
       "Phylogenetic signal lambda : 0.977544 \n",
       "logL(lambda) : 161.526 \n",
       "LR(lambda=0) : 172.52 \n",
       "P-value (based on LR test) : 2.08336e-39 \n"
      ]
     },
     "metadata": {},
     "output_type": "display_data"
    }
   ],
   "source": [
    "phylosig(data1$phy, tcpn, method = \"lambda\", test=T)"
   ]
  },
  {
   "cell_type": "code",
   "execution_count": 8,
   "id": "3c6c757f",
   "metadata": {
    "vscode": {
     "languageId": "r"
    }
   },
   "outputs": [
    {
     "data": {
      "text/plain": [
       "\n",
       "Phylogenetic signal lambda : 0.987313 \n",
       "logL(lambda) : 307.662 \n",
       "LR(lambda=0) : 222.408 \n",
       "P-value (based on LR test) : 2.69911e-50 \n"
      ]
     },
     "metadata": {},
     "output_type": "display_data"
    }
   ],
   "source": [
    "phylosig(data1$phy, glen, method = \"lambda\", test=T)"
   ]
  },
  {
   "cell_type": "code",
   "execution_count": 9,
   "id": "ecdb324a",
   "metadata": {
    "scrolled": false,
    "vscode": {
     "languageId": "r"
    }
   },
   "outputs": [
    {
     "name": "stdout",
     "output_type": "stream",
     "text": [
      "n = 150 \n"
     ]
    },
    {
     "data": {
      "text/plain": [
       "\n",
       "Call:\n",
       "phylolm(formula = log(genomic_len) ~ log(tRNA_CPN), data = prun_data_genome$data, \n",
       "    phy = prun_data_genome$phy, model = \"kappa\")\n",
       "\n",
       "   AIC logLik \n",
       "-364.9  186.5 \n",
       "\n",
       "Raw residuals:\n",
       "     Min       1Q   Median       3Q      Max \n",
       "-0.38514 -0.09130 -0.04725  0.07717  0.50037 \n",
       "\n",
       "Mean tip height: 188.3046\n",
       "Parameter estimate(s) using ML:\n",
       "kappa : 0.9570123\n",
       "sigma2: 0.0002286559 \n",
       "\n",
       "Coefficients:\n",
       "               Estimate    StdErr  t.value   p.value    \n",
       "(Intercept)   20.971707  0.204110 102.7473 < 2.2e-16 ***\n",
       "log(tRNA_CPN)  0.117167  0.028561   4.1023 6.729e-05 ***\n",
       "---\n",
       "Signif. codes:  0 '***' 0.001 '**' 0.01 '*' 0.05 '.' 0.1 ' ' 1\n",
       "\n",
       "R-squared: 0.1021\tAdjusted R-squared: 0.09603 \n",
       "\n",
       "Note: p-values and R-squared are conditional on kappa=0.9570123."
      ]
     },
     "metadata": {},
     "output_type": "display_data"
    },
    {
     "data": {
      "image/png": "[encoded data removed]",
      "text/plain": [
       "plot without title"
      ]
     },
     "metadata": {
      "image/png": {
       "height": 420,
       "width": 420
      }
     },
     "output_type": "display_data"
    }
   ],
   "source": [
    "# genome assemblies length VS tRNA copy number\n",
    "\n",
    "prun_data_genome <- prunDataTree(ddata, ttree, list(x1='tRNA_CPN', x2='genomic_len'))\n",
    "model.pgls.genome <- phylolm(log(genomic_len) ~  log(tRNA_CPN), \n",
    "                          data = prun_data_genome$data, \n",
    "                          phy =  prun_data_genome$phy, \n",
    "                          model = \"kappa\")\n",
    "\n",
    "cat('n =',nrow(prun_data_genome$data),'\\n')\n",
    "summary(model.pgls.genome)\n",
    "\n",
    "plot(log(prun_data_genome$data$genomic_len) ~  log(prun_data_genome$data$tRNA_CPN))\n",
    "abline(model.pgls.genome)"
   ]
  },
  {
   "cell_type": "code",
   "execution_count": null,
   "id": "92596f3f",
   "metadata": {
    "vscode": {
     "languageId": "r"
    }
   },
   "outputs": [],
   "source": []
  },
  {
   "cell_type": "markdown",
   "id": "2515039c",
   "metadata": {},
   "source": [
    "## adult / birth body mass vs tRNA copy"
   ]
  },
  {
   "cell_type": "code",
   "execution_count": 10,
   "id": "9d5c3919",
   "metadata": {
    "vscode": {
     "languageId": "r"
    }
   },
   "outputs": [],
   "source": [
    "prun_data_mass       <- prunDataTree(ddata, ttree, list(x1='tRNA_CPN', x2='mass'))\n",
    "prun_data_birth_mass <- prunDataTree(ddata, ttree, list(x1='tRNA_CPN', x2='birth_mass'))\n",
    "\n",
    "pgls.mass.tRNA <- phylolm(log(mass) ~  log(tRNA_CPN), \n",
    "                          data = prun_data_mass$data, \n",
    "                          phy =  prun_data_mass$phy, \n",
    "                          model = \"kappa\")\n",
    "\n",
    "pgls.mass.genome <- phylolm(log(mass) ~  log(genomic_len), \n",
    "                          data = prun_data_mass$data, \n",
    "                          phy =  prun_data_mass$phy, \n",
    "                          model = \"kappa\")\n",
    "\n",
    "pgls.birth_mass.tRNA <- phylolm(log(birth_mass) ~  log(tRNA_CPN), \n",
    "                          data = prun_data_birth_mass$data, \n",
    "                          phy =  prun_data_birth_mass$phy, \n",
    "                          model = \"kappa\")\n",
    "\n",
    "pgls.birth_mass.genome <- phylolm(log(birth_mass) ~  log(genomic_len), \n",
    "                          data = prun_data_birth_mass$data, \n",
    "                          phy =  prun_data_birth_mass$phy, \n",
    "                          model = \"kappa\")"
   ]
  },
  {
   "cell_type": "code",
   "execution_count": 11,
   "id": "b31e36ef",
   "metadata": {
    "vscode": {
     "languageId": "r"
    }
   },
   "outputs": [
    {
     "data": {
      "text/html": [
       "148"
      ],
      "text/latex": [
       "148"
      ],
      "text/markdown": [
       "148"
      ],
      "text/plain": [
       "[1] 148"
      ]
     },
     "metadata": {},
     "output_type": "display_data"
    }
   ],
   "source": [
    "nrow(prun_data_mass$data)"
   ]
  },
  {
   "cell_type": "code",
   "execution_count": 12,
   "id": "bfdbcb2b",
   "metadata": {
    "scrolled": true,
    "vscode": {
     "languageId": "r"
    }
   },
   "outputs": [
    {
     "data": {
      "text/html": [
       "138"
      ],
      "text/latex": [
       "138"
      ],
      "text/markdown": [
       "138"
      ],
      "text/plain": [
       "[1] 138"
      ]
     },
     "metadata": {},
     "output_type": "display_data"
    }
   ],
   "source": [
    "nrow(prun_data_birth_mass$data)"
   ]
  },
  {
   "cell_type": "markdown",
   "id": "82b02e75",
   "metadata": {},
   "source": [
    "### adult body mass ~ genome length"
   ]
  },
  {
   "cell_type": "code",
   "execution_count": 13,
   "id": "a4321230",
   "metadata": {
    "scrolled": false,
    "vscode": {
     "languageId": "r"
    }
   },
   "outputs": [
    {
     "data": {
      "text/plain": [
       "\n",
       "Call:\n",
       "phylolm(formula = log(mass) ~ log(genomic_len), data = prun_data_mass$data, \n",
       "    phy = prun_data_mass$phy, model = \"kappa\")\n",
       "\n",
       "   AIC logLik \n",
       " 589.3 -290.6 \n",
       "\n",
       "Raw residuals:\n",
       "   Min     1Q Median     3Q    Max \n",
       "-5.998 -2.044  1.826  4.871 12.024 \n",
       "\n",
       "Mean tip height: 188.3046\n",
       "Parameter estimate(s) using ML:\n",
       "kappa : 0.6070532\n",
       "sigma2: 0.3152168 \n",
       "\n",
       "Coefficients:\n",
       "                  Estimate    StdErr t.value p.value\n",
       "(Intercept)      -12.79366  41.61243 -0.3074  0.7589\n",
       "log(genomic_len)   0.90316   1.91756  0.4710  0.6383\n",
       "\n",
       "R-squared: 0.001517\tAdjusted R-squared: -0.005322 \n",
       "\n",
       "Note: p-values and R-squared are conditional on kappa=0.6070532."
      ]
     },
     "metadata": {},
     "output_type": "display_data"
    },
    {
     "data": {
      "image/png": "[encoded data removed]",
      "text/plain": [
       "plot without title"
      ]
     },
     "metadata": {
      "image/png": {
       "height": 420,
       "width": 420
      }
     },
     "output_type": "display_data"
    }
   ],
   "source": [
    "summary(pgls.mass.genome)\n",
    "plot(log(prun_data_mass$data$mass) ~  log(prun_data_mass$data$genomic_len))\n",
    "abline(pgls.mass.genome)"
   ]
  },
  {
   "cell_type": "markdown",
   "id": "52e36a1f",
   "metadata": {},
   "source": [
    "### birth body mass ~ genome length"
   ]
  },
  {
   "cell_type": "code",
   "execution_count": 14,
   "id": "86be354c",
   "metadata": {
    "scrolled": false,
    "vscode": {
     "languageId": "r"
    }
   },
   "outputs": [
    {
     "data": {
      "text/plain": [
       "\n",
       "Call:\n",
       "phylolm(formula = log(birth_mass) ~ log(genomic_len), data = prun_data_birth_mass$data, \n",
       "    phy = prun_data_birth_mass$phy, model = \"kappa\")\n",
       "\n",
       "   AIC logLik \n",
       " 508.7 -250.4 \n",
       "\n",
       "Raw residuals:\n",
       "   Min     1Q Median     3Q    Max \n",
       "-4.285  1.610  4.729  7.230 14.222 \n",
       "\n",
       "Mean tip height: 188.3046\n",
       "Parameter estimate(s) using ML:\n",
       "kappa : 0.586622\n",
       "sigma2: 0.2496815 \n",
       "\n",
       "Coefficients:\n",
       "                 Estimate   StdErr t.value p.value\n",
       "(Intercept)      -20.0898  38.6442 -0.5199  0.6040\n",
       "log(genomic_len)   0.9439   1.7794  0.5305  0.5967\n",
       "\n",
       "R-squared: 0.002065\tAdjusted R-squared: -0.005273 \n",
       "\n",
       "Note: p-values and R-squared are conditional on kappa=0.586622."
      ]
     },
     "metadata": {},
     "output_type": "display_data"
    },
    {
     "data": {
      "image/png": "[encoded data removed]",
      "text/plain": [
       "plot without title"
      ]
     },
     "metadata": {
      "image/png": {
       "height": 420,
       "width": 420
      }
     },
     "output_type": "display_data"
    }
   ],
   "source": [
    "summary(pgls.birth_mass.genome)\n",
    "plot(log(prun_data_mass$data$birth_mass) ~  log(prun_data_mass$data$genomic_len))\n",
    "abline(pgls.birth_mass.genome)"
   ]
  },
  {
   "cell_type": "markdown",
   "id": "e410582d",
   "metadata": {},
   "source": [
    "### adult body mass ~ tRNA"
   ]
  },
  {
   "cell_type": "code",
   "execution_count": 15,
   "id": "d9b77469",
   "metadata": {
    "scrolled": false,
    "vscode": {
     "languageId": "r"
    }
   },
   "outputs": [
    {
     "data": {
      "text/plain": [
       "\n",
       "Call:\n",
       "phylolm(formula = log(mass) ~ log(tRNA_CPN), data = prun_data_mass$data, \n",
       "    phy = prun_data_mass$phy, model = \"kappa\")\n",
       "\n",
       "   AIC logLik \n",
       " 582.2 -287.1 \n",
       "\n",
       "Raw residuals:\n",
       "   Min     1Q Median     3Q    Max \n",
       "-5.276 -1.324  2.483  4.782 12.496 \n",
       "\n",
       "Mean tip height: 188.3046\n",
       "Parameter estimate(s) using ML:\n",
       "kappa : 0.5643993\n",
       "sigma2: 0.331305 \n",
       "\n",
       "Coefficients:\n",
       "              Estimate   StdErr t.value p.value   \n",
       "(Intercept)   -5.52129  4.82272 -1.1449 0.25414   \n",
       "log(tRNA_CPN)  1.95051  0.71583  2.7248 0.00722 **\n",
       "---\n",
       "Signif. codes:  0 '***' 0.001 '**' 0.01 '*' 0.05 '.' 0.1 ' ' 1\n",
       "\n",
       "R-squared: 0.04839\tAdjusted R-squared: 0.04187 \n",
       "\n",
       "Note: p-values and R-squared are conditional on kappa=0.5643993."
      ]
     },
     "metadata": {},
     "output_type": "display_data"
    },
    {
     "data": {
      "image/png": "[encoded data removed]",
      "text/plain": [
       "plot without title"
      ]
     },
     "metadata": {
      "image/png": {
       "height": 420,
       "width": 420
      }
     },
     "output_type": "display_data"
    }
   ],
   "source": [
    "summary(pgls.mass.tRNA)\n",
    "plot(log(prun_data_mass$data$mass) ~  log(prun_data_mass$data$tRNA_CPN))\n",
    "abline(pgls.mass.tRNA)"
   ]
  },
  {
   "cell_type": "markdown",
   "id": "a78e8669",
   "metadata": {},
   "source": [
    "### birth body mass ~ tRNA copys"
   ]
  },
  {
   "cell_type": "code",
   "execution_count": 16,
   "id": "0bf44aa4",
   "metadata": {
    "scrolled": false,
    "vscode": {
     "languageId": "r"
    }
   },
   "outputs": [
    {
     "data": {
      "text/plain": [
       "\n",
       "Call:\n",
       "phylolm(formula = log(birth_mass) ~ log(tRNA_CPN), data = prun_data_birth_mass$data, \n",
       "    phy = prun_data_birth_mass$phy, model = \"kappa\")\n",
       "\n",
       "   AIC logLik \n",
       " 503.9 -248.0 \n",
       "\n",
       "Raw residuals:\n",
       "   Min     1Q Median     3Q    Max \n",
       "-3.587  2.522  5.145  7.713 14.730 \n",
       "\n",
       "Mean tip height: 188.3046\n",
       "Parameter estimate(s) using ML:\n",
       "kappa : 0.5634105\n",
       "sigma2: 0.2541465 \n",
       "\n",
       "Coefficients:\n",
       "              Estimate   StdErr t.value p.value  \n",
       "(Intercept)   -8.77923  4.29349 -2.0448 0.04281 *\n",
       "log(tRNA_CPN)  1.42019  0.62746  2.2634 0.02520 *\n",
       "---\n",
       "Signif. codes:  0 '***' 0.001 '**' 0.01 '*' 0.05 '.' 0.1 ' ' 1\n",
       "\n",
       "R-squared: 0.0363\tAdjusted R-squared: 0.02921 \n",
       "\n",
       "Note: p-values and R-squared are conditional on kappa=0.5634105."
      ]
     },
     "metadata": {},
     "output_type": "display_data"
    },
    {
     "data": {
      "image/png": "[encoded data removed]",
      "text/plain": [
       "plot without title"
      ]
     },
     "metadata": {
      "image/png": {
       "height": 420,
       "width": 420
      }
     },
     "output_type": "display_data"
    }
   ],
   "source": [
    "summary(pgls.birth_mass.tRNA)\n",
    "plot(log(prun_data_mass$data$birth_mass) ~  log(prun_data_mass$data$tRNA_CPN))\n",
    "abline(pgls.birth_mass.tRNA)"
   ]
  },
  {
   "cell_type": "markdown",
   "id": "21fd3912",
   "metadata": {},
   "source": [
    "## tRNA copy number VS whole coding sequence length"
   ]
  },
  {
   "cell_type": "markdown",
   "id": "b9c6241e",
   "metadata": {},
   "source": [
    "### Supplement Fig.2"
   ]
  },
  {
   "cell_type": "code",
   "execution_count": 17,
   "id": "0b02a2e6",
   "metadata": {
    "vscode": {
     "languageId": "r"
    }
   },
   "outputs": [
    {
     "name": "stdout",
     "output_type": "stream",
     "text": [
      "[1] 150\n"
     ]
    }
   ],
   "source": [
    "prun_data <- prunDataTree(ddata, \n",
    "                          ttree, \n",
    "                          list(x1='CDs_len', x2='tRNA_CPN'))\n",
    "pic_data <- prun_data\n",
    "\n",
    "cds  <- setNames(log(pic_data$data$CDs_len), rownames(pic_data$data))\n",
    "trna <- setNames(log(pic_data$data$tRNA_CPN), rownames(pic_data$data))\n",
    "\n",
    "\n",
    "# PIC\n",
    "pic.cds <- pic(cds, pic_data$phy)\n",
    "pic.trna <- pic(trna, pic_data$phy)\n",
    "print(nrow(prun_data$data))"
   ]
  },
  {
   "cell_type": "code",
   "execution_count": 18,
   "id": "07402a0f",
   "metadata": {
    "vscode": {
     "languageId": "r"
    }
   },
   "outputs": [
    {
     "data": {
      "text/plain": [
       "\n",
       "\tPearson's product-moment correlation\n",
       "\n",
       "data:  pic.cds and pic.trna\n",
       "t = 6.6258, df = 147, p-value = 6.106e-10\n",
       "alternative hypothesis: true correlation is not equal to 0\n",
       "95 percent confidence interval:\n",
       " 0.3453856 0.5945084\n",
       "sample estimates:\n",
       "      cor \n",
       "0.4795522 \n"
      ]
     },
     "metadata": {},
     "output_type": "display_data"
    },
    {
     "name": "stdout",
     "output_type": "stream",
     "text": [
      "outlier:\t 124"
     ]
    },
    {
     "data": {
      "text/plain": [
       "\n",
       "\tPearson's product-moment correlation\n",
       "\n",
       "data:  pic.cds.new and pic.trna.new\n",
       "t = 6.3875, df = 146, p-value = 2.122e-09\n",
       "alternative hypothesis: true correlation is not equal to 0\n",
       "95 percent confidence interval:\n",
       " 0.3309615 0.5846113\n",
       "sample estimates:\n",
       "      cor \n",
       "0.4673495 \n"
      ]
     },
     "metadata": {},
     "output_type": "display_data"
    },
    {
     "data": {
      "image/png": "[encoded data removed]",
      "text/plain": [
       "plot without title"
      ]
     },
     "metadata": {
      "image/png": {
       "height": 420,
       "width": 420
      }
     },
     "output_type": "display_data"
    }
   ],
   "source": [
    "cor.test(pic.cds, pic.trna)\n",
    "ols.cds.trna <- lm(pic.cds ~ pic.trna-1)\n",
    "# plot(pic.cds ~ pic.trna)\n",
    "# abline(ols.cds.trna)\n",
    "\n",
    "res<- residuals(ols.cds.trna)\n",
    "res<- res/sqrt(var(res))[1]\n",
    "out_s <- names(res)[(abs(res)>3)] \n",
    "cat('outlier:\\t',out_s)\n",
    "\n",
    "\n",
    "pic.cds.new <- pic.cds[!names(pic.cds) %in% out_s]\n",
    "pic.trna.new <- pic.trna[!names(pic.trna) %in% out_s]\n",
    "\n",
    "cor.test(pic.cds.new, pic.trna.new, method='pearson')\n",
    "ols.cds.trna <- lm(pic.cds.new ~ pic.trna.new-1)\n",
    "\n",
    "plot(pic.cds.new ~ pic.trna.new)\n",
    "abline(ols.cds.trna)"
   ]
  },
  {
   "cell_type": "markdown",
   "id": "85637757",
   "metadata": {},
   "source": [
    "# -------------------- delete aquatic mammals --------------------"
   ]
  },
  {
   "cell_type": "markdown",
   "id": "a8d552f7",
   "metadata": {},
   "source": [
    "### becaus their significantly larger average body mass compared to terrestrial mammals"
   ]
  },
  {
   "cell_type": "code",
   "execution_count": 19,
   "id": "d9d006af",
   "metadata": {
    "vscode": {
     "languageId": "r"
    }
   },
   "outputs": [
    {
     "data": {
      "text/plain": [
       "\n",
       "    aquatic      flying terrestrial \n",
       "         23          14         113 "
      ]
     },
     "metadata": {},
     "output_type": "display_data"
    }
   ],
   "source": [
    "table(ddata$mammalia_class)"
   ]
  },
  {
   "cell_type": "code",
   "execution_count": 20,
   "id": "37bdd0a4",
   "metadata": {
    "vscode": {
     "languageId": "r"
    }
   },
   "outputs": [],
   "source": [
    "prun_data_mass_del <- prunDataTree(ddata[ddata$mammalia_class!='aquatic',], ttree, list(x1='tRNA_CPN', x2='mass'))\n",
    "prun_data_birth_mass_del <- prunDataTree(ddata[ddata$mammalia_class!='aquatic',], ttree, list(x1='tRNA_CPN', x2='birth_mass'))\n",
    "\n",
    "pgls.am.trna.del <- phylolm(log(mass) ~  log(tRNA_CPN), \n",
    "                          data = prun_data_mass_del$data, \n",
    "                          phy =  prun_data_mass_del$phy, \n",
    "                          model = \"kappa\")\n",
    "\n",
    "pgls.am.genome.del <- phylolm(log(mass) ~  log(genomic_len), \n",
    "                          data = prun_data_mass_del$data, \n",
    "                          phy =  prun_data_mass_del$phy, \n",
    "                          model = \"kappa\")\n",
    "\n",
    "pgls.bm.trna.del <- phylolm(log(birth_mass) ~  log(tRNA_CPN), \n",
    "                          data = prun_data_birth_mass_del$data, \n",
    "                          phy =  prun_data_birth_mass_del$phy, \n",
    "                          model = \"kappa\")\n",
    "pgls.bm.genome.del <- phylolm(log(birth_mass) ~  log(genomic_len), \n",
    "                          data = prun_data_birth_mass_del$data, \n",
    "                          phy =  prun_data_birth_mass_del$phy, \n",
    "                          model = \"kappa\")"
   ]
  },
  {
   "cell_type": "code",
   "execution_count": 21,
   "id": "f72b458f",
   "metadata": {
    "vscode": {
     "languageId": "r"
    }
   },
   "outputs": [
    {
     "data": {
      "text/html": [
       "125"
      ],
      "text/latex": [
       "125"
      ],
      "text/markdown": [
       "125"
      ],
      "text/plain": [
       "[1] 125"
      ]
     },
     "metadata": {},
     "output_type": "display_data"
    }
   ],
   "source": [
    "nrow(prun_data_mass_del$data)"
   ]
  },
  {
   "cell_type": "code",
   "execution_count": 22,
   "id": "27fa195e",
   "metadata": {
    "vscode": {
     "languageId": "r"
    }
   },
   "outputs": [
    {
     "data": {
      "text/html": [
       "117"
      ],
      "text/latex": [
       "117"
      ],
      "text/markdown": [
       "117"
      ],
      "text/plain": [
       "[1] 117"
      ]
     },
     "metadata": {},
     "output_type": "display_data"
    }
   ],
   "source": [
    "nrow(prun_data_birth_mass_del$data)"
   ]
  },
  {
   "cell_type": "code",
   "execution_count": 23,
   "id": "befbc296",
   "metadata": {
    "vscode": {
     "languageId": "r"
    }
   },
   "outputs": [
    {
     "data": {
      "text/plain": [
       "\n",
       "Call:\n",
       "phylolm(formula = log(mass) ~ log(tRNA_CPN), data = prun_data_mass_del$data, \n",
       "    phy = prun_data_mass_del$phy, model = \"kappa\")\n",
       "\n",
       "   AIC logLik \n",
       " 480.8 -236.4 \n",
       "\n",
       "Raw residuals:\n",
       "   Min     1Q Median     3Q    Max \n",
       "-5.252 -1.655  1.918  3.891  8.369 \n",
       "\n",
       "Mean tip height: 188.3046\n",
       "Parameter estimate(s) using ML:\n",
       "kappa : 0.7603499\n",
       "sigma2: 0.1775109 \n",
       "\n",
       "Coefficients:\n",
       "              Estimate   StdErr t.value  p.value   \n",
       "(Intercept)   -6.11853  4.68197 -1.3068 0.193709   \n",
       "log(tRNA_CPN)  2.04737  0.67408  3.0373 0.002915 **\n",
       "---\n",
       "Signif. codes:  0 '***' 0.001 '**' 0.01 '*' 0.05 '.' 0.1 ' ' 1\n",
       "\n",
       "R-squared: 0.06977\tAdjusted R-squared: 0.06221 \n",
       "\n",
       "Note: p-values and R-squared are conditional on kappa=0.7603499."
      ]
     },
     "metadata": {},
     "output_type": "display_data"
    },
    {
     "data": {
      "image/png": "[encoded data removed]",
      "text/plain": [
       "plot without title"
      ]
     },
     "metadata": {
      "image/png": {
       "height": 420,
       "width": 420
      }
     },
     "output_type": "display_data"
    }
   ],
   "source": [
    "summary(pgls.am.trna.del)\n",
    "plot(log(prun_data_mass_del$data$mass) ~  log(prun_data_mass_del$data$tRNA_CPN))\n",
    "abline(pgls.am.trna.del)"
   ]
  },
  {
   "cell_type": "code",
   "execution_count": 23,
   "id": "af68a82e",
   "metadata": {
    "vscode": {
     "languageId": "r"
    }
   },
   "outputs": [
    {
     "data": {
      "text/plain": [
       "\n",
       "Call:\n",
       "phylolm(formula = log(birth_mass) ~ log(tRNA_CPN), data = prun_data_birth_mass_del$data, \n",
       "    phy = prun_data_birth_mass_del$phy, model = \"kappa\")\n",
       "\n",
       "   AIC logLik \n",
       " 406.2 -199.1 \n",
       "\n",
       "Raw residuals:\n",
       "   Min     1Q Median     3Q    Max \n",
       "-3.552  2.256  4.749  6.744 11.141 \n",
       "\n",
       "Mean tip height: 188.3046\n",
       "Parameter estimate(s) using ML:\n",
       "kappa : 0.6747256\n",
       "sigma2: 0.1520512 \n",
       "\n",
       "Coefficients:\n",
       "               Estimate    StdErr t.value   p.value    \n",
       "(Intercept)   -12.00139   3.90900 -3.0702 0.0026695 ** \n",
       "log(tRNA_CPN)   1.94570   0.56716  3.4306 0.0008372 ***\n",
       "---\n",
       "Signif. codes:  0 '***' 0.001 '**' 0.01 '*' 0.05 '.' 0.1 ' ' 1\n",
       "\n",
       "R-squared: 0.09284\tAdjusted R-squared: 0.08495 \n",
       "\n",
       "Note: p-values and R-squared are conditional on kappa=0.6747256."
      ]
     },
     "metadata": {},
     "output_type": "display_data"
    },
    {
     "data": {
      "image/png": "[encoded data removed]",
      "text/plain": [
       "plot without title"
      ]
     },
     "metadata": {
      "image/png": {
       "height": 420,
       "width": 420
      }
     },
     "output_type": "display_data"
    }
   ],
   "source": [
    "summary(pgls.bm.trna.del)\n",
    "plot(log(prun_data_birth_mass_del$data$birth_mass) ~  log(prun_data_birth_mass_del$data$tRNA_CPN))\n",
    "abline(pgls.bm.trna.del)"
   ]
  },
  {
   "cell_type": "code",
   "execution_count": 24,
   "id": "dc70cb97",
   "metadata": {
    "scrolled": false,
    "vscode": {
     "languageId": "r"
    }
   },
   "outputs": [
    {
     "data": {
      "text/plain": [
       "\n",
       "Call:\n",
       "phylolm(formula = log(mass) ~ log(genomic_len), data = prun_data_mass_del$data, \n",
       "    phy = prun_data_mass_del$phy, model = \"kappa\")\n",
       "\n",
       "   AIC logLik \n",
       " 488.7 -240.4 \n",
       "\n",
       "Raw residuals:\n",
       "   Min     1Q Median     3Q    Max \n",
       "-6.085 -2.658  1.329  3.810  8.463 \n",
       "\n",
       "Mean tip height: 188.3046\n",
       "Parameter estimate(s) using ML:\n",
       "kappa : 0.9033441\n",
       "sigma2: 0.1333315 \n",
       "\n",
       "Coefficients:\n",
       "                 Estimate   StdErr t.value p.value\n",
       "(Intercept)      -1.13278 42.33423 -0.0268  0.9787\n",
       "log(genomic_len)  0.36801  1.94498  0.1892  0.8502\n",
       "\n",
       "R-squared: 0.000291\tAdjusted R-squared: -0.007837 \n",
       "\n",
       "Note: p-values and R-squared are conditional on kappa=0.9033441."
      ]
     },
     "metadata": {},
     "output_type": "display_data"
    },
    {
     "data": {
      "image/png": "[encoded data removed]",
      "text/plain": [
       "plot without title"
      ]
     },
     "metadata": {
      "image/png": {
       "height": 420,
       "width": 420
      }
     },
     "output_type": "display_data"
    }
   ],
   "source": [
    "summary(pgls.am.genome.del)\n",
    "plot(log(prun_data_mass_del$data$mass) ~  log(prun_data_mass_del$data$genomic_len))\n",
    "abline(pgls.am.genome.del)"
   ]
  },
  {
   "cell_type": "code",
   "execution_count": 25,
   "id": "e549ea0d",
   "metadata": {
    "vscode": {
     "languageId": "r"
    }
   },
   "outputs": [
    {
     "data": {
      "text/plain": [
       "\n",
       "Call:\n",
       "phylolm(formula = log(birth_mass) ~ log(genomic_len), data = prun_data_birth_mass_del$data, \n",
       "    phy = prun_data_birth_mass_del$phy, model = \"kappa\")\n",
       "\n",
       "   AIC logLik \n",
       " 416.1 -204.0 \n",
       "\n",
       "Raw residuals:\n",
       "   Min     1Q Median     3Q    Max \n",
       "-4.499  1.246  3.858  5.796 10.767 \n",
       "\n",
       "Mean tip height: 188.3046\n",
       "Parameter estimate(s) using ML:\n",
       "kappa : 0.77073\n",
       "sigma2: 0.1314805 \n",
       "\n",
       "Coefficients:\n",
       "                 Estimate   StdErr t.value p.value\n",
       "(Intercept)      -27.7682  37.7630 -0.7353  0.4636\n",
       "log(genomic_len)   1.3051   1.7373  0.7512  0.4540\n",
       "\n",
       "R-squared: 0.004883\tAdjusted R-squared: -0.00377 \n",
       "\n",
       "Note: p-values and R-squared are conditional on kappa=0.77073."
      ]
     },
     "metadata": {},
     "output_type": "display_data"
    },
    {
     "data": {
      "image/png": "[encoded data removed]",
      "text/plain": [
       "plot without title"
      ]
     },
     "metadata": {
      "image/png": {
       "height": 420,
       "width": 420
      }
     },
     "output_type": "display_data"
    }
   ],
   "source": [
    "summary(pgls.bm.genome.del)\n",
    "plot(log(prun_data_birth_mass_del$data$mass) ~  log(prun_data_birth_mass_del$data$genomic_len))\n",
    "abline(pgls.bm.genome.del)"
   ]
  },
  {
   "cell_type": "markdown",
   "id": "096bb013",
   "metadata": {},
   "source": [
    "##   tRNA vs generation time (GT)"
   ]
  },
  {
   "cell_type": "code",
   "execution_count": 25,
   "id": "5099620a",
   "metadata": {
    "vscode": {
     "languageId": "r"
    }
   },
   "outputs": [
    {
     "name": "stdout",
     "output_type": "stream",
     "text": [
      "[1] \"-------------------------------\"\n",
      "correlation:\t -tRNA VS GT- Species evolutionary relationships have not been removed.\n"
     ]
    },
    {
     "data": {
      "text/plain": [
       "\n",
       "\tPearson's product-moment correlation\n",
       "\n",
       "data:  tRNA and gt\n",
       "t = 2.4195, df = 114, p-value = 0.01712\n",
       "alternative hypothesis: true correlation is not equal to 0\n",
       "95 percent confidence interval:\n",
       " 0.04031333 0.38770059\n",
       "sample estimates:\n",
       "      cor \n",
       "0.2210056 \n"
      ]
     },
     "metadata": {},
     "output_type": "display_data"
    },
    {
     "name": "stdout",
     "output_type": "stream",
     "text": [
      "correlation:\t -tRNA VS GTres- Species evolutionary relationships have not been removed.\n"
     ]
    },
    {
     "data": {
      "text/plain": [
       "\n",
       "\tPearson's product-moment correlation\n",
       "\n",
       "data:  tRNA and gtres\n",
       "t = -2.1768, df = 114, p-value = 0.03156\n",
       "alternative hypothesis: true correlation is not equal to 0\n",
       "95 percent confidence interval:\n",
       " -0.36865432 -0.01810709\n",
       "sample estimates:\n",
       "       cor \n",
       "-0.1997642 \n"
      ]
     },
     "metadata": {},
     "output_type": "display_data"
    },
    {
     "name": "stdout",
     "output_type": "stream",
     "text": [
      "[1] \"-------------------------------\"\n",
      "[1] \"PICs correlation\"\n",
      "PICs correlation:\t -tRNA VS GT- \n"
     ]
    },
    {
     "data": {
      "text/plain": [
       "\n",
       "\tPearson's product-moment correlation\n",
       "\n",
       "data:  pic.tRNA and pic.gt\n",
       "t = 1.8194, df = 113, p-value = 0.0715\n",
       "alternative hypothesis: true correlation is not equal to 0\n",
       "95 percent confidence interval:\n",
       " -0.01487189  0.34126660\n",
       "sample estimates:\n",
       "     cor \n",
       "0.168698 \n"
      ]
     },
     "metadata": {},
     "output_type": "display_data"
    },
    {
     "name": "stdout",
     "output_type": "stream",
     "text": [
      "PICs correlation:\t -tRNA VS GTres- \n"
     ]
    },
    {
     "data": {
      "text/plain": [
       "\n",
       "\tPearson's product-moment correlation\n",
       "\n",
       "data:  pic.tRNA and pic.gtres\n",
       "t = 0.67138, df = 113, p-value = 0.5033\n",
       "alternative hypothesis: true correlation is not equal to 0\n",
       "95 percent confidence interval:\n",
       " -0.1214797  0.2433348\n",
       "sample estimates:\n",
       "      cor \n",
       "0.0630329 \n"
      ]
     },
     "metadata": {},
     "output_type": "display_data"
    },
    {
     "data": {
      "image/png": "[encoded data removed]",
      "text/plain": [
       "plot without title"
      ]
     },
     "metadata": {
      "image/png": {
       "height": 420,
       "width": 420
      }
     },
     "output_type": "display_data"
    }
   ],
   "source": [
    "prun_data_gt <- prunDataTree(ddata[ddata$mammalia_class!='aquatic',], ttree, list(x1='tRNA_CPN', x2='GTres'))\n",
    "pic_data <- prun_data_gt\n",
    "\n",
    "tRNA <- setNames(pic_data$data$tRNA_CPN, rownames(pic_data$data))\n",
    "gt   <- setNames(pic_data$data$GT, rownames(pic_data$data))\n",
    "gtres <- setNames(pic_data$data$GTres, rownames(pic_data$data))\n",
    "\n",
    "# pearson\n",
    "print('-------------------------------')\n",
    "cat('correlation:\\t', '-tRNA VS GT-', 'Species evolutionary relationships have not been removed.\\n')\n",
    "cor.test(tRNA, gt)\n",
    "cat('correlation:\\t', '-tRNA VS GTres-', 'Species evolutionary relationships have not been removed.\\n')\n",
    "cor.test(tRNA, gtres)\n",
    "\n",
    "pic.tRNA <- pic(tRNA, pic_data$phy)\n",
    "pic.gt <- pic(gt, pic_data$phy)\n",
    "pic.gtres <- pic(gtres, pic_data$phy)\n",
    "\n",
    "# PICs pearson\n",
    "print('-------------------------------')\n",
    "print('PICs correlation')\n",
    "cat('PICs correlation:\\t', '-tRNA VS GT-', '\\n')\n",
    "cor.test(pic.tRNA, pic.gt)\n",
    "cat('PICs correlation:\\t', '-tRNA VS GTres-', '\\n')\n",
    "cor.test(pic.tRNA, pic.gtres)\n",
    "\n",
    "plot(log(GTres) ~ log(tRNA_CPN),data = pic_data$data)"
   ]
  },
  {
   "cell_type": "markdown",
   "id": "46205aa1",
   "metadata": {},
   "source": [
    "## residual of tRNA corrected for ABM VS residuals of GT corrected for ABM (GTres)"
   ]
  },
  {
   "cell_type": "code",
   "execution_count": 26,
   "id": "62e1d7b5",
   "metadata": {
    "vscode": {
     "languageId": "r"
    }
   },
   "outputs": [
    {
     "name": "stdout",
     "output_type": "stream",
     "text": [
      "outliers:\t Camelus_dromedarius Vicugna_pacos Camelus_ferus Tachyglossus_aculeatus \n"
     ]
    },
    {
     "data": {
      "text/plain": [
       "\n",
       "Call:\n",
       "lm(formula = log(tRNA_CPN) ~ log(mass), data = data_2)\n",
       "\n",
       "Residuals:\n",
       "    Min      1Q  Median      3Q     Max \n",
       "-0.7713 -0.1527 -0.0253  0.1698  0.6996 \n",
       "\n",
       "Coefficients:\n",
       "            Estimate Std. Error t value Pr(>|t|)    \n",
       "(Intercept) 5.645528   0.054655 103.295  < 2e-16 ***\n",
       "log(mass)   0.045450   0.006622   6.863 3.24e-10 ***\n",
       "---\n",
       "Signif. codes:  0 '***' 0.001 '**' 0.01 '*' 0.05 '.' 0.1 ' ' 1\n",
       "\n",
       "Residual standard error: 0.2549 on 119 degrees of freedom\n",
       "Multiple R-squared:  0.2836,\tAdjusted R-squared:  0.2776 \n",
       "F-statistic: 47.11 on 1 and 119 DF,  p-value: 3.24e-10\n"
      ]
     },
     "metadata": {},
     "output_type": "display_data"
    },
    {
     "data": {
      "image/png": "[encoded data removed]",
      "text/plain": [
       "plot without title"
      ]
     },
     "metadata": {
      "image/png": {
       "height": 420,
       "width": 420
      }
     },
     "output_type": "display_data"
    }
   ],
   "source": [
    "data_1 <- prunDataTree(ddata[ddata$mammalia_class!='aquatic',], ttree, list(x1='tRNA_CPN', x2='mass'))\n",
    "\n",
    "lm.tRNA.mass <- lm(tRNA_CPN ~ mass, data_1$data)\n",
    "\n",
    "res<- residuals(lm.tRNA.mass)\n",
    "res<- res/sqrt(var(res))[1]\n",
    "out_s <- names(res)[(abs(res)>3)] # outlier \n",
    "cat('outliers:\\t', out_s, '\\n')\n",
    "\n",
    "data_2 <- data_1$data[!data_1$data$phy_label %in% out_s,]\n",
    "lm.tRNA.mass.2 <- lm(log(tRNA_CPN) ~ log(mass), data_2)\n",
    "summary(lm.tRNA.mass.2)\n",
    "\n",
    "plot(log(tRNA_CPN) ~ log(mass), data=data_2)\n",
    "abline(lm.tRNA.mass.2)\n",
    "\n",
    "# residuals\n",
    "tRNA_hat <- predict(lm.tRNA.mass.2)\n",
    "tRNA_y <- data_2$tRNA_CPN\n",
    "data_2['tRNAres'] = tRNA_y / tRNA_hat"
   ]
  },
  {
   "cell_type": "code",
   "execution_count": 28,
   "id": "99f4db0b",
   "metadata": {
    "vscode": {
     "languageId": "r"
    }
   },
   "outputs": [
    {
     "name": "stdout",
     "output_type": "stream",
     "text": [
      "outliers:\t 53 56 \n"
     ]
    },
    {
     "data": {
      "text/plain": [
       "\n",
       "\tPearson's product-moment correlation\n",
       "\n",
       "data:  pic.tRNAres[!names(pic.tRNAres) %in% out_s] and pic.gtres[!names(pic.gtres) %in% out_s]\n",
       "t = -0.36726, df = 107, p-value = 0.7142\n",
       "alternative hypothesis: true correlation is not equal to 0\n",
       "95 percent confidence interval:\n",
       " -0.2221014  0.1536451\n",
       "sample estimates:\n",
       "        cor \n",
       "-0.03548204 \n"
      ]
     },
     "metadata": {},
     "output_type": "display_data"
    },
    {
     "data": {
      "image/png": "[encoded data removed]",
      "text/plain": [
       "plot without title"
      ]
     },
     "metadata": {
      "image/png": {
       "height": 420,
       "width": 420
      }
     },
     "output_type": "display_data"
    }
   ],
   "source": [
    "pic_data <- prunDataTree(data_2, ttree, list(x1='tRNAres', x2='GTres'))\n",
    "\n",
    "tRNAres <- setNames(pic_data$data$tRNAres, rownames(pic_data$data))\n",
    "gtres <- setNames(pic_data$data$GTres, rownames(pic_data$data))\n",
    "\n",
    "pic.tRNAres <- pic(tRNAres, pic_data$phy)\n",
    "pic.gtres <- pic(gtres, pic_data$phy)\n",
    "\n",
    "lm.res <- lm(pic.gtres ~ pic.tRNAres-1)\n",
    "res<- residuals(lm.res)\n",
    "res<- res/sqrt(var(res))[1]\n",
    "out_s <- names(res)[(abs(res)>3)] # outlier # 'Tachyglossus_aculeatus'\n",
    "cat('outliers:\\t', out_s, '\\n')\n",
    "cor.test(pic.tRNAres[!names(pic.tRNAres) %in% out_s], pic.gtres[!names(pic.gtres) %in% out_s])\n",
    "plot(pic.tRNAres[!names(pic.tRNAres) %in% out_s], pic.gtres[!names(pic.gtres) %in% out_s])\n",
    "\n",
    "# cor.test(pic.tRNAres, pic.gtres)"
   ]
  },
  {
   "cell_type": "code",
   "execution_count": 29,
   "id": "bd27f7e5",
   "metadata": {
    "vscode": {
     "languageId": "r"
    }
   },
   "outputs": [
    {
     "data": {
      "text/plain": [
       "\n",
       "\tPearson's product-moment correlation\n",
       "\n",
       "data:  log(pic_data$data$GTres) and log(pic_data$data$tRNAres)\n",
       "t = -3.7013, df = 110, p-value = 0.0003369\n",
       "alternative hypothesis: true correlation is not equal to 0\n",
       "95 percent confidence interval:\n",
       " -0.4881994 -0.1569251\n",
       "sample estimates:\n",
       "       cor \n",
       "-0.3327905 \n"
      ]
     },
     "metadata": {},
     "output_type": "display_data"
    },
    {
     "data": {
      "image/png": "[encoded data removed]",
      "text/plain": [
       "plot without title"
      ]
     },
     "metadata": {
      "image/png": {
       "height": 420,
       "width": 420
      }
     },
     "output_type": "display_data"
    }
   ],
   "source": [
    "plot(log(GTres) ~ log(tRNAres),data = pic_data$data)\n",
    "cor.test(log(pic_data$data$GTres), log(pic_data$data$tRNAres))"
   ]
  },
  {
   "cell_type": "code",
   "execution_count": null,
   "metadata": {
    "vscode": {
     "languageId": "r"
    }
   },
   "outputs": [],
   "source": []
  }
 ],
 "metadata": {
  "kernelspec": {
   "display_name": "R 4.1",
   "language": "R",
   "name": "ir41"
  },
  "language_info": {
   "codemirror_mode": "r",
   "file_extension": ".r",
   "mimetype": "text/x-r-source",
   "name": "R",
   "pygments_lexer": "r",
   "version": "4.3.1"
  }
 },
 "nbformat": 4,
 "nbformat_minor": 5
}
